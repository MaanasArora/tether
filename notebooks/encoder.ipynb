{
 "cells": [
  {
   "cell_type": "code",
   "execution_count": 69,
   "id": "a24fa796",
   "metadata": {},
   "outputs": [],
   "source": [
    "import sys\n",
    "import os\n",
    "\n",
    "# Navigate up to the project root (adjust path as needed)\n",
    "project_root = os.path.abspath(os.path.join(os.getcwd(), \"../../\"))\n",
    "sys.path.append(project_root)"
   ]
  },
  {
   "cell_type": "code",
   "execution_count": 70,
   "id": "92aa8274",
   "metadata": {},
   "outputs": [],
   "source": [
    "from pathlib import Path\n",
    "from tether.dataset.source import DataSource, Column\n",
    "from tether.dataset.repository import DataRepository\n",
    "\n",
    "import numpy as np\n",
    "import pandas as pd\n",
    "\n",
    "from sklearn.model_selection import train_test_split\n",
    "from sklearn.cluster import HDBSCAN\n",
    "\n",
    "import torch\n",
    "import torch.nn as nn\n",
    "import torch.nn.functional as F\n",
    "from torch.utils.data import DataLoader, Dataset as TorchDataset\n",
    "\n",
    "from tqdm import tqdm"
   ]
  },
  {
   "cell_type": "code",
   "execution_count": 71,
   "id": "bd460ee3",
   "metadata": {},
   "outputs": [
    {
     "name": "stderr",
     "output_type": "stream",
     "text": [
      "Loading packages:  74%|███████▍  | 99/134 [00:11<00:04,  8.39it/s]\n"
     ]
    }
   ],
   "source": [
    "data_dir = Path(\"../../data\")\n",
    "package_dir = \"packages\"\n",
    "resource_dir = \"resources\"\n",
    "\n",
    "data_source = DataSource(\n",
    "    data_dir=data_dir, package_dir=package_dir, resource_dir=resource_dir\n",
    ")\n",
    "\n",
    "data_repository = DataRepository(data_source=data_source)\n",
    "data_repository.load_all_metadata(max_datasets=100)"
   ]
  },
  {
   "cell_type": "code",
   "execution_count": 72,
   "id": "1dcc41a0",
   "metadata": {},
   "outputs": [],
   "source": [
    "def create_items_from_repository(repository, package_names=None):\n",
    "    datasets = []\n",
    "    for package in repository.list_packages():\n",
    "        if package_names is None or package.name in package_names:\n",
    "            datasets.extend(repository.list_package_datasets(package.name))\n",
    "\n",
    "    items = []\n",
    "    colnames = []\n",
    "    for dataset in tqdm(datasets, desc=\"Loading datasets\"):\n",
    "        df = dataset.load()\n",
    "        df = df.head(200)\n",
    "        str_cols = df.select_dtypes(include=[\"object\"]).columns\n",
    "\n",
    "        for col in str_cols:\n",
    "            items_col = df[col].dropna().tolist()\n",
    "            if items_col:\n",
    "                items.extend(items_col)\n",
    "                colnames.extend([Column(name=col, dataset=dataset)] * len(items_col))\n",
    "\n",
    "    return items, colnames"
   ]
  },
  {
   "cell_type": "code",
   "execution_count": 73,
   "id": "7e6a2b03",
   "metadata": {},
   "outputs": [],
   "source": [
    "def process_ascii(ascii_items, max_length=100):\n",
    "    one_hot_ascii = np.zeros((len(ascii_items), max_length, 256), dtype=np.float32)\n",
    "    for i, item in enumerate(tqdm(ascii_items, desc=\"Processing ASCII items\")):\n",
    "        for j, char in enumerate(item):\n",
    "            if j >= max_length:\n",
    "                break\n",
    "            if ord(char) < 255:  # Ensure character is within ASCII range\n",
    "                one_hot_ascii[i, j, ord(char) + 1] = 1.0\n",
    "            else:\n",
    "                one_hot_ascii[i, j, 0] = 1.0\n",
    "\n",
    "    if max_length > one_hot_ascii.shape[1]:\n",
    "        padding = np.eye(256, dtype=np.float32)[0:1, :].reshape(1, 1, 256)\n",
    "        one_hot_ascii = np.concatenate((one_hot_ascii, padding), axis=1)\n",
    "\n",
    "    return one_hot_ascii\n",
    "\n",
    "\n",
    "def process_items(items, columns, max_length=100):\n",
    "    one_hot_items = process_ascii(items, max_length=max_length)\n",
    "\n",
    "    column_datasets = [column.dataset.id for column in columns]\n",
    "    column_names = [column.name for column in columns]\n",
    "    column_ids = np.array(\n",
    "        [f\"{dataset}_{name}\" for dataset, name in zip(column_datasets, column_names)]\n",
    "    )\n",
    "\n",
    "    return one_hot_items, column_ids"
   ]
  },
  {
   "cell_type": "code",
   "execution_count": 74,
   "id": "0bd12693",
   "metadata": {},
   "outputs": [
    {
     "name": "stderr",
     "output_type": "stream",
     "text": [
      "Loading datasets: 100%|██████████| 80/80 [00:11<00:00,  6.70it/s]\n",
      "Loading datasets: 100%|██████████| 20/20 [00:00<00:00, 30.70it/s]\n",
      "Processing ASCII items: 100%|██████████| 113853/113853 [00:08<00:00, 13582.77it/s]\n",
      "Processing ASCII items: 100%|██████████| 31404/31404 [00:02<00:00, 14453.80it/s]\n"
     ]
    }
   ],
   "source": [
    "all_package_names = [pkg.name for pkg in data_repository.list_packages()]\n",
    "train_package_names, test_package_names = train_test_split(\n",
    "    all_package_names, test_size=0.2, random_state=42\n",
    ")\n",
    "\n",
    "train_items, train_colnames = create_items_from_repository(\n",
    "    data_repository, package_names=train_package_names\n",
    ")\n",
    "test_items, test_colnames = create_items_from_repository(\n",
    "    data_repository, package_names=test_package_names\n",
    ")\n",
    "train_items, train_colnames = process_items(train_items, train_colnames)\n",
    "test_items, test_colnames = process_items(test_items, test_colnames)"
   ]
  },
  {
   "cell_type": "code",
   "execution_count": 75,
   "id": "eb73c5cb",
   "metadata": {},
   "outputs": [],
   "source": [
    "class ContrastiveItemDataset(TorchDataset):\n",
    "    def __init__(self, items, colnames):\n",
    "        items_by_col = {}\n",
    "        for item, colname in zip(items, colnames):\n",
    "            if colname not in items_by_col:\n",
    "                items_by_col[colname] = []\n",
    "            items_by_col[colname].append(item)\n",
    "        self.items_by_col = items_by_col\n",
    "        self.colnames = list(items_by_col.keys())\n",
    "\n",
    "    def __len__(self):\n",
    "        return sum(len(items) for items in self.items_by_col.values())\n",
    "\n",
    "    def __getitem__(self, idx):\n",
    "        random_colname = np.random.choice(self.colnames)\n",
    "        items = self.items_by_col[random_colname]\n",
    "\n",
    "        random_idx = np.random.randint(len(items))\n",
    "        anchor = items[random_idx]\n",
    "        positive = items[random_idx]\n",
    "\n",
    "        negative_colname = np.random.choice(\n",
    "            [col for col in self.colnames if col != random_colname]\n",
    "        )\n",
    "        negative_items = self.items_by_col[negative_colname]\n",
    "        negative_idx = np.random.randint(len(negative_items))\n",
    "        negative = negative_items[negative_idx]\n",
    "\n",
    "        return anchor, positive, negative\n",
    "\n",
    "\n",
    "train_dataset = ContrastiveItemDataset(train_items, train_colnames)\n",
    "test_dataset = ContrastiveItemDataset(test_items, test_colnames)\n",
    "train_loader = DataLoader(train_dataset, batch_size=128, shuffle=True)\n",
    "test_loader = DataLoader(test_dataset, batch_size=128, shuffle=False)"
   ]
  },
  {
   "cell_type": "code",
   "execution_count": 76,
   "id": "49135c0c",
   "metadata": {},
   "outputs": [],
   "source": [
    "class ItemAutoencoder(torch.nn.Module):\n",
    "    def __init__(self, input_dim, hidden_dim, input_size=100):\n",
    "        super(ItemAutoencoder, self).__init__()\n",
    "\n",
    "        self.input_dim = input_dim\n",
    "        self.hidden_dim = hidden_dim\n",
    "        self.input_size = input_size\n",
    "\n",
    "        self.input_linear = nn.Linear(input_dim, 64)\n",
    "        self.encoder_lstm = nn.LSTM(\n",
    "            input_size=64,\n",
    "            hidden_size=hidden_dim,\n",
    "            num_layers=2,\n",
    "            batch_first=True,\n",
    "            dropout=0.1,\n",
    "        )\n",
    "        self.decoder_lstm = nn.LSTM(\n",
    "            input_size=hidden_dim,\n",
    "            hidden_size=64,\n",
    "            num_layers=2,\n",
    "            batch_first=True,\n",
    "            dropout=0.1,\n",
    "        )\n",
    "        self.output_linear = nn.Linear(64, input_dim)\n",
    "\n",
    "    def encoder(self, x):\n",
    "        x = F.relu(self.input_linear(x))\n",
    "        _, (h, _) = self.encoder_lstm(x)\n",
    "        return h[-1]\n",
    "\n",
    "    def decoder(self, x):\n",
    "        x = x.unsqueeze(1).repeat(1, self.input_size, 1)\n",
    "        x, _ = self.decoder_lstm(x)\n",
    "        x = self.output_linear(x)\n",
    "        return x\n",
    "\n",
    "    def forward(self, x):\n",
    "        encoded = self.encoder(x)\n",
    "        decoded = self.decoder(encoded)\n",
    "\n",
    "        return decoded\n",
    "    "
   ]
  },
  {
   "cell_type": "code",
   "execution_count": null,
   "id": "cd8209b9",
   "metadata": {},
   "outputs": [],
   "source": [
    "def triplet_loss(anchor, positive, negative, margin=0.2, distance=\"cosine\"):\n",
    "    if distance == \"cosine\":\n",
    "        d_ap = 1 - F.cosine_similarity(anchor, positive)\n",
    "        d_an = 1 - F.cosine_similarity(anchor, negative)\n",
    "    elif distance == \"euclidean\":\n",
    "        d_ap = F.pairwise_distance(anchor, positive)\n",
    "        d_an = F.pairwise_distance(anchor, negative)\n",
    "    else:\n",
    "        raise ValueError(\"Unsupported distance metric\")\n",
    "\n",
    "    loss = F.relu(d_ap - d_an + margin)\n",
    "    return loss.mean()\n",
    "\n",
    "\n",
    "def reconstruction_loss(original, reconstructed):\n",
    "    logits_flat = reconstructed.view(-1, reconstructed.size(-1))\n",
    "    targets_flat = original.argmax(dim=-1).view(-1)\n",
    "\n",
    "    loss = F.cross_entropy(logits_flat, targets_flat, reduction=\"mean\")\n",
    "    return loss\n",
    "\n",
    "\n",
    "def train_model(model, train_loader, optimizer, device):\n",
    "    model.train()\n",
    "    total_rec_loss = 0.0\n",
    "    total_triplet_loss = 0.0\n",
    "    total_loss = 0.0\n",
    "\n",
    "    for batch in tqdm(train_loader, desc=\"Training\"):\n",
    "        anchor, positive, negative = batch\n",
    "        anchor = anchor.to(device)\n",
    "        positive = positive.to(device)\n",
    "        negative = negative.to(device)\n",
    "\n",
    "        optimizer.zero_grad()\n",
    "\n",
    "        anchor_encoded = model.encoder(anchor)\n",
    "        positive_encoded = model.encoder(positive)\n",
    "        negative_encoded = model.encoder(negative)\n",
    "\n",
    "        output = model.decoder(anchor_encoded)\n",
    "\n",
    "        rec_loss_value = reconstruction_loss(anchor, output)\n",
    "        triplet_loss_value = triplet_loss(\n",
    "            anchor_encoded, positive_encoded, negative_encoded\n",
    "        )\n",
    "\n",
    "        total_rec_loss += rec_loss_value.item()\n",
    "        total_triplet_loss += triplet_loss_value.item()\n",
    "        loss = 0.5 * rec_loss_value + 0.5 * triplet_loss_value\n",
    "        loss.backward()\n",
    "        optimizer.step()\n",
    "\n",
    "        total_loss += loss.item()\n",
    "\n",
    "    rec_loss_avg = total_rec_loss / len(train_loader)\n",
    "    triplet_loss_avg = total_triplet_loss / len(train_loader)\n",
    "\n",
    "    return rec_loss_avg, triplet_loss_avg\n",
    "\n",
    "\n",
    "def evaluate_model(model, test_loader, device):\n",
    "    model.eval()\n",
    "    total_rec_loss = 0.0\n",
    "    total_triplet_loss = 0.0\n",
    "    with torch.no_grad():\n",
    "        for batch in tqdm(test_loader, desc=\"Evaluating\"):\n",
    "            anchor, positive, negative = batch\n",
    "            anchor = anchor.to(device)\n",
    "            positive = positive.to(device)\n",
    "            negative = negative.to(device)\n",
    "\n",
    "            output = model(anchor)\n",
    "            rec_loss_value = reconstruction_loss(anchor, output)\n",
    "            triplet_loss_value = triplet_loss(\n",
    "                model.encoder(anchor), model.encoder(positive), model.encoder(negative)\n",
    "            )\n",
    "            total_rec_loss += rec_loss_value.item()\n",
    "            total_triplet_loss += triplet_loss_value.item()\n",
    "    rec_loss_avg = total_rec_loss / len(test_loader)\n",
    "    triplet_loss_avg = total_triplet_loss / len(test_loader)\n",
    "    return rec_loss_avg, triplet_loss_avg\n",
    "\n",
    "\n",
    "autoencoder = ItemAutoencoder(input_dim=256, hidden_dim=64, input_size=100)\n",
    "device = torch.device(\"cuda\" if torch.cuda.is_available() else \"cpu\")\n",
    "autoencoder.to(device)\n",
    "optimizer = torch.optim.Adam(autoencoder.parameters(), lr=0.001)\n",
    "num_epochs = 30"
   ]
  },
  {
   "cell_type": "code",
   "execution_count": 78,
   "id": "01cc9962",
   "metadata": {},
   "outputs": [
    {
     "name": "stderr",
     "output_type": "stream",
     "text": [
      "Training: 100%|██████████| 890/890 [00:52<00:00, 17.05it/s]\n"
     ]
    },
    {
     "name": "stdout",
     "output_type": "stream",
     "text": [
      "Epoch 1/50, Rec Loss: 1.3664, Triplet Loss: 0.0896\n"
     ]
    },
    {
     "name": "stderr",
     "output_type": "stream",
     "text": [
      "Evaluating: 100%|██████████| 246/246 [00:06<00:00, 38.01it/s]\n"
     ]
    },
    {
     "name": "stdout",
     "output_type": "stream",
     "text": [
      "Test Rec Loss: 0.9296, Test Triplet Loss: 0.0196\n"
     ]
    },
    {
     "name": "stderr",
     "output_type": "stream",
     "text": [
      "Training: 100%|██████████| 890/890 [00:51<00:00, 17.33it/s]\n"
     ]
    },
    {
     "name": "stdout",
     "output_type": "stream",
     "text": [
      "Epoch 2/50, Rec Loss: 1.0015, Triplet Loss: 0.0178\n"
     ]
    },
    {
     "name": "stderr",
     "output_type": "stream",
     "text": [
      "Evaluating: 100%|██████████| 246/246 [00:06<00:00, 38.25it/s]\n"
     ]
    },
    {
     "name": "stdout",
     "output_type": "stream",
     "text": [
      "Test Rec Loss: 0.9308, Test Triplet Loss: 0.0203\n"
     ]
    },
    {
     "name": "stderr",
     "output_type": "stream",
     "text": [
      "Training: 100%|██████████| 890/890 [00:52<00:00, 17.09it/s]\n"
     ]
    },
    {
     "name": "stdout",
     "output_type": "stream",
     "text": [
      "Epoch 3/50, Rec Loss: 0.9284, Triplet Loss: 0.0124\n"
     ]
    },
    {
     "name": "stderr",
     "output_type": "stream",
     "text": [
      "Evaluating: 100%|██████████| 246/246 [00:06<00:00, 36.99it/s]\n"
     ]
    },
    {
     "name": "stdout",
     "output_type": "stream",
     "text": [
      "Test Rec Loss: 0.8048, Test Triplet Loss: 0.0118\n"
     ]
    },
    {
     "name": "stderr",
     "output_type": "stream",
     "text": [
      "Training: 100%|██████████| 890/890 [00:52<00:00, 16.82it/s]\n"
     ]
    },
    {
     "name": "stdout",
     "output_type": "stream",
     "text": [
      "Epoch 4/50, Rec Loss: 0.8734, Triplet Loss: 0.0093\n"
     ]
    },
    {
     "name": "stderr",
     "output_type": "stream",
     "text": [
      "Evaluating: 100%|██████████| 246/246 [00:06<00:00, 37.00it/s]\n"
     ]
    },
    {
     "name": "stdout",
     "output_type": "stream",
     "text": [
      "Test Rec Loss: 0.7696, Test Triplet Loss: 0.0097\n"
     ]
    },
    {
     "name": "stderr",
     "output_type": "stream",
     "text": [
      "Training: 100%|██████████| 890/890 [00:52<00:00, 16.87it/s]\n"
     ]
    },
    {
     "name": "stdout",
     "output_type": "stream",
     "text": [
      "Epoch 5/50, Rec Loss: 0.8471, Triplet Loss: 0.0083\n"
     ]
    },
    {
     "name": "stderr",
     "output_type": "stream",
     "text": [
      "Evaluating: 100%|██████████| 246/246 [00:06<00:00, 37.29it/s]\n"
     ]
    },
    {
     "name": "stdout",
     "output_type": "stream",
     "text": [
      "Test Rec Loss: 0.7460, Test Triplet Loss: 0.0088\n"
     ]
    },
    {
     "name": "stderr",
     "output_type": "stream",
     "text": [
      "Training: 100%|██████████| 890/890 [00:52<00:00, 16.90it/s]\n"
     ]
    },
    {
     "name": "stdout",
     "output_type": "stream",
     "text": [
      "Epoch 6/50, Rec Loss: 0.8180, Triplet Loss: 0.0068\n"
     ]
    },
    {
     "name": "stderr",
     "output_type": "stream",
     "text": [
      "Evaluating: 100%|██████████| 246/246 [00:06<00:00, 37.42it/s]\n"
     ]
    },
    {
     "name": "stdout",
     "output_type": "stream",
     "text": [
      "Test Rec Loss: 0.7369, Test Triplet Loss: 0.0076\n"
     ]
    },
    {
     "name": "stderr",
     "output_type": "stream",
     "text": [
      "Training: 100%|██████████| 890/890 [00:52<00:00, 16.96it/s]\n"
     ]
    },
    {
     "name": "stdout",
     "output_type": "stream",
     "text": [
      "Epoch 7/50, Rec Loss: 0.7938, Triplet Loss: 0.0060\n"
     ]
    },
    {
     "name": "stderr",
     "output_type": "stream",
     "text": [
      "Evaluating: 100%|██████████| 246/246 [00:06<00:00, 37.01it/s]\n"
     ]
    },
    {
     "name": "stdout",
     "output_type": "stream",
     "text": [
      "Test Rec Loss: 0.7031, Test Triplet Loss: 0.0071\n"
     ]
    },
    {
     "name": "stderr",
     "output_type": "stream",
     "text": [
      "Training: 100%|██████████| 890/890 [00:52<00:00, 16.89it/s]\n"
     ]
    },
    {
     "name": "stdout",
     "output_type": "stream",
     "text": [
      "Epoch 8/50, Rec Loss: 0.7703, Triplet Loss: 0.0052\n"
     ]
    },
    {
     "name": "stderr",
     "output_type": "stream",
     "text": [
      "Evaluating: 100%|██████████| 246/246 [00:06<00:00, 37.03it/s]\n"
     ]
    },
    {
     "name": "stdout",
     "output_type": "stream",
     "text": [
      "Test Rec Loss: 0.6940, Test Triplet Loss: 0.0070\n"
     ]
    },
    {
     "name": "stderr",
     "output_type": "stream",
     "text": [
      "Training: 100%|██████████| 890/890 [00:52<00:00, 16.93it/s]\n"
     ]
    },
    {
     "name": "stdout",
     "output_type": "stream",
     "text": [
      "Epoch 9/50, Rec Loss: 0.7472, Triplet Loss: 0.0047\n"
     ]
    },
    {
     "name": "stderr",
     "output_type": "stream",
     "text": [
      "Evaluating: 100%|██████████| 246/246 [00:06<00:00, 37.03it/s]\n"
     ]
    },
    {
     "name": "stdout",
     "output_type": "stream",
     "text": [
      "Test Rec Loss: 0.6771, Test Triplet Loss: 0.0062\n"
     ]
    },
    {
     "name": "stderr",
     "output_type": "stream",
     "text": [
      "Training: 100%|██████████| 890/890 [00:52<00:00, 16.91it/s]\n"
     ]
    },
    {
     "name": "stdout",
     "output_type": "stream",
     "text": [
      "Epoch 10/50, Rec Loss: 0.7299, Triplet Loss: 0.0042\n"
     ]
    },
    {
     "name": "stderr",
     "output_type": "stream",
     "text": [
      "Evaluating: 100%|██████████| 246/246 [00:06<00:00, 37.53it/s]\n"
     ]
    },
    {
     "name": "stdout",
     "output_type": "stream",
     "text": [
      "Test Rec Loss: 0.6489, Test Triplet Loss: 0.0056\n"
     ]
    },
    {
     "name": "stderr",
     "output_type": "stream",
     "text": [
      "Training: 100%|██████████| 890/890 [00:52<00:00, 16.86it/s]\n"
     ]
    },
    {
     "name": "stdout",
     "output_type": "stream",
     "text": [
      "Epoch 11/50, Rec Loss: 0.7124, Triplet Loss: 0.0039\n"
     ]
    },
    {
     "name": "stderr",
     "output_type": "stream",
     "text": [
      "Evaluating: 100%|██████████| 246/246 [00:06<00:00, 37.32it/s]\n"
     ]
    },
    {
     "name": "stdout",
     "output_type": "stream",
     "text": [
      "Test Rec Loss: 0.6328, Test Triplet Loss: 0.0057\n"
     ]
    },
    {
     "name": "stderr",
     "output_type": "stream",
     "text": [
      "Training: 100%|██████████| 890/890 [00:52<00:00, 16.97it/s]\n"
     ]
    },
    {
     "name": "stdout",
     "output_type": "stream",
     "text": [
      "Epoch 12/50, Rec Loss: 0.6945, Triplet Loss: 0.0037\n"
     ]
    },
    {
     "name": "stderr",
     "output_type": "stream",
     "text": [
      "Evaluating: 100%|██████████| 246/246 [00:06<00:00, 36.95it/s]\n"
     ]
    },
    {
     "name": "stdout",
     "output_type": "stream",
     "text": [
      "Test Rec Loss: 0.6218, Test Triplet Loss: 0.0057\n"
     ]
    },
    {
     "name": "stderr",
     "output_type": "stream",
     "text": [
      "Training: 100%|██████████| 890/890 [00:52<00:00, 16.81it/s]\n"
     ]
    },
    {
     "name": "stdout",
     "output_type": "stream",
     "text": [
      "Epoch 13/50, Rec Loss: 0.6869, Triplet Loss: 0.0036\n"
     ]
    },
    {
     "name": "stderr",
     "output_type": "stream",
     "text": [
      "Evaluating: 100%|██████████| 246/246 [00:06<00:00, 37.32it/s]\n"
     ]
    },
    {
     "name": "stdout",
     "output_type": "stream",
     "text": [
      "Test Rec Loss: 0.6250, Test Triplet Loss: 0.0055\n"
     ]
    },
    {
     "name": "stderr",
     "output_type": "stream",
     "text": [
      "Training: 100%|██████████| 890/890 [00:52<00:00, 16.86it/s]\n"
     ]
    },
    {
     "name": "stdout",
     "output_type": "stream",
     "text": [
      "Epoch 14/50, Rec Loss: 0.6719, Triplet Loss: 0.0034\n"
     ]
    },
    {
     "name": "stderr",
     "output_type": "stream",
     "text": [
      "Evaluating: 100%|██████████| 246/246 [00:06<00:00, 35.85it/s]\n"
     ]
    },
    {
     "name": "stdout",
     "output_type": "stream",
     "text": [
      "Test Rec Loss: 0.6115, Test Triplet Loss: 0.0050\n"
     ]
    },
    {
     "name": "stderr",
     "output_type": "stream",
     "text": [
      "Training: 100%|██████████| 890/890 [00:52<00:00, 16.85it/s]\n"
     ]
    },
    {
     "name": "stdout",
     "output_type": "stream",
     "text": [
      "Epoch 15/50, Rec Loss: 0.6594, Triplet Loss: 0.0033\n"
     ]
    },
    {
     "name": "stderr",
     "output_type": "stream",
     "text": [
      "Evaluating: 100%|██████████| 246/246 [00:06<00:00, 37.38it/s]\n"
     ]
    },
    {
     "name": "stdout",
     "output_type": "stream",
     "text": [
      "Test Rec Loss: 0.6226, Test Triplet Loss: 0.0050\n"
     ]
    },
    {
     "name": "stderr",
     "output_type": "stream",
     "text": [
      "Training: 100%|██████████| 890/890 [00:52<00:00, 16.90it/s]\n"
     ]
    },
    {
     "name": "stdout",
     "output_type": "stream",
     "text": [
      "Epoch 16/50, Rec Loss: 0.6551, Triplet Loss: 0.0033\n"
     ]
    },
    {
     "name": "stderr",
     "output_type": "stream",
     "text": [
      "Evaluating: 100%|██████████| 246/246 [00:06<00:00, 36.97it/s]\n"
     ]
    },
    {
     "name": "stdout",
     "output_type": "stream",
     "text": [
      "Test Rec Loss: 0.6074, Test Triplet Loss: 0.0051\n"
     ]
    },
    {
     "name": "stderr",
     "output_type": "stream",
     "text": [
      "Training: 100%|██████████| 890/890 [00:52<00:00, 16.86it/s]\n"
     ]
    },
    {
     "name": "stdout",
     "output_type": "stream",
     "text": [
      "Epoch 17/50, Rec Loss: 0.6446, Triplet Loss: 0.0031\n"
     ]
    },
    {
     "name": "stderr",
     "output_type": "stream",
     "text": [
      "Evaluating: 100%|██████████| 246/246 [00:06<00:00, 36.93it/s]\n"
     ]
    },
    {
     "name": "stdout",
     "output_type": "stream",
     "text": [
      "Test Rec Loss: 0.5953, Test Triplet Loss: 0.0052\n"
     ]
    },
    {
     "name": "stderr",
     "output_type": "stream",
     "text": [
      "Training: 100%|██████████| 890/890 [00:52<00:00, 16.89it/s]\n"
     ]
    },
    {
     "name": "stdout",
     "output_type": "stream",
     "text": [
      "Epoch 18/50, Rec Loss: 0.6424, Triplet Loss: 0.0030\n"
     ]
    },
    {
     "name": "stderr",
     "output_type": "stream",
     "text": [
      "Evaluating: 100%|██████████| 246/246 [00:06<00:00, 36.91it/s]\n"
     ]
    },
    {
     "name": "stdout",
     "output_type": "stream",
     "text": [
      "Test Rec Loss: 0.5822, Test Triplet Loss: 0.0051\n"
     ]
    },
    {
     "name": "stderr",
     "output_type": "stream",
     "text": [
      "Training: 100%|██████████| 890/890 [00:52<00:00, 16.89it/s]\n"
     ]
    },
    {
     "name": "stdout",
     "output_type": "stream",
     "text": [
      "Epoch 19/50, Rec Loss: 0.6454, Triplet Loss: 0.0030\n"
     ]
    },
    {
     "name": "stderr",
     "output_type": "stream",
     "text": [
      "Evaluating: 100%|██████████| 246/246 [00:06<00:00, 37.27it/s]\n"
     ]
    },
    {
     "name": "stdout",
     "output_type": "stream",
     "text": [
      "Test Rec Loss: 0.6398, Test Triplet Loss: 0.0054\n"
     ]
    },
    {
     "name": "stderr",
     "output_type": "stream",
     "text": [
      "Training: 100%|██████████| 890/890 [00:52<00:00, 16.83it/s]\n"
     ]
    },
    {
     "name": "stdout",
     "output_type": "stream",
     "text": [
      "Epoch 20/50, Rec Loss: 0.6463, Triplet Loss: 0.0032\n"
     ]
    },
    {
     "name": "stderr",
     "output_type": "stream",
     "text": [
      "Evaluating: 100%|██████████| 246/246 [00:06<00:00, 36.73it/s]\n"
     ]
    },
    {
     "name": "stdout",
     "output_type": "stream",
     "text": [
      "Test Rec Loss: 0.6073, Test Triplet Loss: 0.0049\n"
     ]
    },
    {
     "name": "stderr",
     "output_type": "stream",
     "text": [
      "Training: 100%|██████████| 890/890 [00:52<00:00, 16.89it/s]\n"
     ]
    },
    {
     "name": "stdout",
     "output_type": "stream",
     "text": [
      "Epoch 21/50, Rec Loss: 0.6348, Triplet Loss: 0.0031\n"
     ]
    },
    {
     "name": "stderr",
     "output_type": "stream",
     "text": [
      "Evaluating: 100%|██████████| 246/246 [00:06<00:00, 37.19it/s]\n"
     ]
    },
    {
     "name": "stdout",
     "output_type": "stream",
     "text": [
      "Test Rec Loss: 0.6039, Test Triplet Loss: 0.0050\n"
     ]
    },
    {
     "name": "stderr",
     "output_type": "stream",
     "text": [
      "Training: 100%|██████████| 890/890 [00:52<00:00, 16.88it/s]\n"
     ]
    },
    {
     "name": "stdout",
     "output_type": "stream",
     "text": [
      "Epoch 22/50, Rec Loss: 0.6307, Triplet Loss: 0.0029\n"
     ]
    },
    {
     "name": "stderr",
     "output_type": "stream",
     "text": [
      "Evaluating: 100%|██████████| 246/246 [00:06<00:00, 36.68it/s]\n"
     ]
    },
    {
     "name": "stdout",
     "output_type": "stream",
     "text": [
      "Test Rec Loss: 0.5928, Test Triplet Loss: 0.0051\n"
     ]
    },
    {
     "name": "stderr",
     "output_type": "stream",
     "text": [
      "Training: 100%|██████████| 890/890 [00:52<00:00, 16.90it/s]\n"
     ]
    },
    {
     "name": "stdout",
     "output_type": "stream",
     "text": [
      "Epoch 23/50, Rec Loss: 0.6171, Triplet Loss: 0.0028\n"
     ]
    },
    {
     "name": "stderr",
     "output_type": "stream",
     "text": [
      "Evaluating: 100%|██████████| 246/246 [00:06<00:00, 36.95it/s]\n"
     ]
    },
    {
     "name": "stdout",
     "output_type": "stream",
     "text": [
      "Test Rec Loss: 0.5949, Test Triplet Loss: 0.0049\n"
     ]
    },
    {
     "name": "stderr",
     "output_type": "stream",
     "text": [
      "Training: 100%|██████████| 890/890 [00:52<00:00, 16.90it/s]\n"
     ]
    },
    {
     "name": "stdout",
     "output_type": "stream",
     "text": [
      "Epoch 24/50, Rec Loss: 0.6165, Triplet Loss: 0.0028\n"
     ]
    },
    {
     "name": "stderr",
     "output_type": "stream",
     "text": [
      "Evaluating: 100%|██████████| 246/246 [00:06<00:00, 36.99it/s]\n"
     ]
    },
    {
     "name": "stdout",
     "output_type": "stream",
     "text": [
      "Test Rec Loss: 0.6145, Test Triplet Loss: 0.0051\n"
     ]
    },
    {
     "name": "stderr",
     "output_type": "stream",
     "text": [
      "Training: 100%|██████████| 890/890 [00:52<00:00, 16.93it/s]\n"
     ]
    },
    {
     "name": "stdout",
     "output_type": "stream",
     "text": [
      "Epoch 25/50, Rec Loss: 0.6127, Triplet Loss: 0.0028\n"
     ]
    },
    {
     "name": "stderr",
     "output_type": "stream",
     "text": [
      "Evaluating: 100%|██████████| 246/246 [00:06<00:00, 37.25it/s]\n"
     ]
    },
    {
     "name": "stdout",
     "output_type": "stream",
     "text": [
      "Test Rec Loss: 0.5843, Test Triplet Loss: 0.0050\n"
     ]
    },
    {
     "name": "stderr",
     "output_type": "stream",
     "text": [
      "Training: 100%|██████████| 890/890 [00:52<00:00, 16.95it/s]\n"
     ]
    },
    {
     "name": "stdout",
     "output_type": "stream",
     "text": [
      "Epoch 26/50, Rec Loss: 0.6023, Triplet Loss: 0.0028\n"
     ]
    },
    {
     "name": "stderr",
     "output_type": "stream",
     "text": [
      "Evaluating: 100%|██████████| 246/246 [00:06<00:00, 37.21it/s]\n"
     ]
    },
    {
     "name": "stdout",
     "output_type": "stream",
     "text": [
      "Test Rec Loss: 0.6114, Test Triplet Loss: 0.0048\n"
     ]
    },
    {
     "name": "stderr",
     "output_type": "stream",
     "text": [
      "Training: 100%|██████████| 890/890 [00:52<00:00, 16.90it/s]\n"
     ]
    },
    {
     "name": "stdout",
     "output_type": "stream",
     "text": [
      "Epoch 27/50, Rec Loss: 0.6053, Triplet Loss: 0.0027\n"
     ]
    },
    {
     "name": "stderr",
     "output_type": "stream",
     "text": [
      "Evaluating: 100%|██████████| 246/246 [00:06<00:00, 36.69it/s]\n"
     ]
    },
    {
     "name": "stdout",
     "output_type": "stream",
     "text": [
      "Test Rec Loss: 0.5849, Test Triplet Loss: 0.0050\n"
     ]
    },
    {
     "name": "stderr",
     "output_type": "stream",
     "text": [
      "Training: 100%|██████████| 890/890 [00:52<00:00, 16.82it/s]\n"
     ]
    },
    {
     "name": "stdout",
     "output_type": "stream",
     "text": [
      "Epoch 28/50, Rec Loss: 0.6004, Triplet Loss: 0.0028\n"
     ]
    },
    {
     "name": "stderr",
     "output_type": "stream",
     "text": [
      "Evaluating: 100%|██████████| 246/246 [00:06<00:00, 37.30it/s]\n"
     ]
    },
    {
     "name": "stdout",
     "output_type": "stream",
     "text": [
      "Test Rec Loss: 0.5710, Test Triplet Loss: 0.0046\n"
     ]
    },
    {
     "name": "stderr",
     "output_type": "stream",
     "text": [
      "Training: 100%|██████████| 890/890 [00:52<00:00, 16.87it/s]\n"
     ]
    },
    {
     "name": "stdout",
     "output_type": "stream",
     "text": [
      "Epoch 29/50, Rec Loss: 0.5906, Triplet Loss: 0.0028\n"
     ]
    },
    {
     "name": "stderr",
     "output_type": "stream",
     "text": [
      "Evaluating: 100%|██████████| 246/246 [00:06<00:00, 36.83it/s]\n"
     ]
    },
    {
     "name": "stdout",
     "output_type": "stream",
     "text": [
      "Test Rec Loss: 0.5661, Test Triplet Loss: 0.0044\n"
     ]
    },
    {
     "name": "stderr",
     "output_type": "stream",
     "text": [
      "Training: 100%|██████████| 890/890 [00:52<00:00, 16.94it/s]\n"
     ]
    },
    {
     "name": "stdout",
     "output_type": "stream",
     "text": [
      "Epoch 30/50, Rec Loss: 0.5846, Triplet Loss: 0.0027\n"
     ]
    },
    {
     "name": "stderr",
     "output_type": "stream",
     "text": [
      "Evaluating: 100%|██████████| 246/246 [00:06<00:00, 37.53it/s]\n"
     ]
    },
    {
     "name": "stdout",
     "output_type": "stream",
     "text": [
      "Test Rec Loss: 0.5652, Test Triplet Loss: 0.0047\n"
     ]
    },
    {
     "name": "stderr",
     "output_type": "stream",
     "text": [
      "Training: 100%|██████████| 890/890 [00:52<00:00, 16.88it/s]\n"
     ]
    },
    {
     "name": "stdout",
     "output_type": "stream",
     "text": [
      "Epoch 31/50, Rec Loss: 0.5850, Triplet Loss: 0.0026\n"
     ]
    },
    {
     "name": "stderr",
     "output_type": "stream",
     "text": [
      "Evaluating: 100%|██████████| 246/246 [00:06<00:00, 37.30it/s]\n"
     ]
    },
    {
     "name": "stdout",
     "output_type": "stream",
     "text": [
      "Test Rec Loss: 0.5606, Test Triplet Loss: 0.0046\n"
     ]
    },
    {
     "name": "stderr",
     "output_type": "stream",
     "text": [
      "Training: 100%|██████████| 890/890 [00:52<00:00, 16.84it/s]\n"
     ]
    },
    {
     "name": "stdout",
     "output_type": "stream",
     "text": [
      "Epoch 32/50, Rec Loss: 0.5789, Triplet Loss: 0.0026\n"
     ]
    },
    {
     "name": "stderr",
     "output_type": "stream",
     "text": [
      "Evaluating: 100%|██████████| 246/246 [00:06<00:00, 37.14it/s]\n"
     ]
    },
    {
     "name": "stdout",
     "output_type": "stream",
     "text": [
      "Test Rec Loss: 0.5516, Test Triplet Loss: 0.0045\n"
     ]
    },
    {
     "name": "stderr",
     "output_type": "stream",
     "text": [
      "Training: 100%|██████████| 890/890 [00:52<00:00, 16.82it/s]\n"
     ]
    },
    {
     "name": "stdout",
     "output_type": "stream",
     "text": [
      "Epoch 33/50, Rec Loss: 0.5762, Triplet Loss: 0.0025\n"
     ]
    },
    {
     "name": "stderr",
     "output_type": "stream",
     "text": [
      "Evaluating: 100%|██████████| 246/246 [00:06<00:00, 36.98it/s]\n"
     ]
    },
    {
     "name": "stdout",
     "output_type": "stream",
     "text": [
      "Test Rec Loss: 0.5735, Test Triplet Loss: 0.0045\n"
     ]
    },
    {
     "name": "stderr",
     "output_type": "stream",
     "text": [
      "Training: 100%|██████████| 890/890 [00:52<00:00, 17.06it/s]\n"
     ]
    },
    {
     "name": "stdout",
     "output_type": "stream",
     "text": [
      "Epoch 34/50, Rec Loss: 0.5748, Triplet Loss: 0.0024\n"
     ]
    },
    {
     "name": "stderr",
     "output_type": "stream",
     "text": [
      "Evaluating: 100%|██████████| 246/246 [00:06<00:00, 37.21it/s]\n"
     ]
    },
    {
     "name": "stdout",
     "output_type": "stream",
     "text": [
      "Test Rec Loss: 0.5663, Test Triplet Loss: 0.0045\n"
     ]
    },
    {
     "name": "stderr",
     "output_type": "stream",
     "text": [
      "Training: 100%|██████████| 890/890 [00:52<00:00, 16.89it/s]\n"
     ]
    },
    {
     "name": "stdout",
     "output_type": "stream",
     "text": [
      "Epoch 35/50, Rec Loss: 0.5718, Triplet Loss: 0.0024\n"
     ]
    },
    {
     "name": "stderr",
     "output_type": "stream",
     "text": [
      "Evaluating: 100%|██████████| 246/246 [00:06<00:00, 36.90it/s]\n"
     ]
    },
    {
     "name": "stdout",
     "output_type": "stream",
     "text": [
      "Test Rec Loss: 0.5535, Test Triplet Loss: 0.0043\n"
     ]
    },
    {
     "name": "stderr",
     "output_type": "stream",
     "text": [
      "Training: 100%|██████████| 890/890 [00:52<00:00, 16.90it/s]\n"
     ]
    },
    {
     "name": "stdout",
     "output_type": "stream",
     "text": [
      "Epoch 36/50, Rec Loss: 0.5709, Triplet Loss: 0.0024\n"
     ]
    },
    {
     "name": "stderr",
     "output_type": "stream",
     "text": [
      "Evaluating: 100%|██████████| 246/246 [00:07<00:00, 35.09it/s]\n"
     ]
    },
    {
     "name": "stdout",
     "output_type": "stream",
     "text": [
      "Test Rec Loss: 0.5595, Test Triplet Loss: 0.0045\n"
     ]
    },
    {
     "name": "stderr",
     "output_type": "stream",
     "text": [
      "Training: 100%|██████████| 890/890 [00:52<00:00, 16.89it/s]\n"
     ]
    },
    {
     "name": "stdout",
     "output_type": "stream",
     "text": [
      "Epoch 37/50, Rec Loss: 0.5647, Triplet Loss: 0.0024\n"
     ]
    },
    {
     "name": "stderr",
     "output_type": "stream",
     "text": [
      "Evaluating: 100%|██████████| 246/246 [00:06<00:00, 37.21it/s]\n"
     ]
    },
    {
     "name": "stdout",
     "output_type": "stream",
     "text": [
      "Test Rec Loss: 0.5492, Test Triplet Loss: 0.0043\n"
     ]
    },
    {
     "name": "stderr",
     "output_type": "stream",
     "text": [
      "Training: 100%|██████████| 890/890 [00:52<00:00, 16.86it/s]\n"
     ]
    },
    {
     "name": "stdout",
     "output_type": "stream",
     "text": [
      "Epoch 38/50, Rec Loss: 0.5603, Triplet Loss: 0.0025\n"
     ]
    },
    {
     "name": "stderr",
     "output_type": "stream",
     "text": [
      "Evaluating: 100%|██████████| 246/246 [00:06<00:00, 36.88it/s]\n"
     ]
    },
    {
     "name": "stdout",
     "output_type": "stream",
     "text": [
      "Test Rec Loss: 0.5617, Test Triplet Loss: 0.0042\n"
     ]
    },
    {
     "name": "stderr",
     "output_type": "stream",
     "text": [
      "Training:  34%|███▎      | 299/890 [00:18<00:35, 16.48it/s]\n"
     ]
    },
    {
     "ename": "KeyboardInterrupt",
     "evalue": "",
     "output_type": "error",
     "traceback": [
      "\u001b[31m---------------------------------------------------------------------------\u001b[39m",
      "\u001b[31mKeyboardInterrupt\u001b[39m                         Traceback (most recent call last)",
      "\u001b[36mCell\u001b[39m\u001b[36m \u001b[39m\u001b[32mIn[78]\u001b[39m\u001b[32m, line 2\u001b[39m\n\u001b[32m      1\u001b[39m \u001b[38;5;28;01mfor\u001b[39;00m epoch \u001b[38;5;129;01min\u001b[39;00m \u001b[38;5;28mrange\u001b[39m(num_epochs):\n\u001b[32m----> \u001b[39m\u001b[32m2\u001b[39m     rec_loss, triplet_loss_val = \u001b[43mtrain_model\u001b[49m\u001b[43m(\u001b[49m\u001b[43mautoencoder\u001b[49m\u001b[43m,\u001b[49m\u001b[43m \u001b[49m\u001b[43mtrain_loader\u001b[49m\u001b[43m,\u001b[49m\u001b[43m \u001b[49m\u001b[43moptimizer\u001b[49m\u001b[43m,\u001b[49m\u001b[43m \u001b[49m\u001b[43mdevice\u001b[49m\u001b[43m)\u001b[49m\n\u001b[32m      3\u001b[39m     \u001b[38;5;28mprint\u001b[39m(\n\u001b[32m      4\u001b[39m         \u001b[33mf\u001b[39m\u001b[33m\"\u001b[39m\u001b[33mEpoch \u001b[39m\u001b[38;5;132;01m{\u001b[39;00mepoch\u001b[38;5;250m \u001b[39m+\u001b[38;5;250m \u001b[39m\u001b[32m1\u001b[39m\u001b[38;5;132;01m}\u001b[39;00m\u001b[33m/\u001b[39m\u001b[38;5;132;01m{\u001b[39;00mnum_epochs\u001b[38;5;132;01m}\u001b[39;00m\u001b[33m, Rec Loss: \u001b[39m\u001b[38;5;132;01m{\u001b[39;00mrec_loss\u001b[38;5;132;01m:\u001b[39;00m\u001b[33m.4f\u001b[39m\u001b[38;5;132;01m}\u001b[39;00m\u001b[33m, Triplet Loss: \u001b[39m\u001b[38;5;132;01m{\u001b[39;00mtriplet_loss_val\u001b[38;5;132;01m:\u001b[39;00m\u001b[33m.4f\u001b[39m\u001b[38;5;132;01m}\u001b[39;00m\u001b[33m\"\u001b[39m,\n\u001b[32m      5\u001b[39m     )\n\u001b[32m      6\u001b[39m     rec_loss, triplet_loss_val = evaluate_model(autoencoder, test_loader, device)\n",
      "\u001b[36mCell\u001b[39m\u001b[36m \u001b[39m\u001b[32mIn[77]\u001b[39m\u001b[32m, line 31\u001b[39m, in \u001b[36mtrain_model\u001b[39m\u001b[34m(model, train_loader, optimizer, device)\u001b[39m\n\u001b[32m     29\u001b[39m \u001b[38;5;28;01mfor\u001b[39;00m batch \u001b[38;5;129;01min\u001b[39;00m tqdm(train_loader, desc=\u001b[33m\"\u001b[39m\u001b[33mTraining\u001b[39m\u001b[33m\"\u001b[39m):\n\u001b[32m     30\u001b[39m     anchor, positive, negative = batch\n\u001b[32m---> \u001b[39m\u001b[32m31\u001b[39m     anchor = \u001b[43manchor\u001b[49m\u001b[43m.\u001b[49m\u001b[43mto\u001b[49m\u001b[43m(\u001b[49m\u001b[43mdevice\u001b[49m\u001b[43m)\u001b[49m\n\u001b[32m     32\u001b[39m     positive = positive.to(device)\n\u001b[32m     33\u001b[39m     negative = negative.to(device)\n",
      "\u001b[31mKeyboardInterrupt\u001b[39m: "
     ]
    }
   ],
   "source": [
    "for epoch in range(num_epochs):\n",
    "    rec_loss, triplet_loss_val = train_model(autoencoder, train_loader, optimizer, device)\n",
    "    print(\n",
    "        f\"Epoch {epoch + 1}/{num_epochs}, Rec Loss: {rec_loss:.4f}, Triplet Loss: {triplet_loss_val:.4f}\",\n",
    "    )\n",
    "    rec_loss, triplet_loss_val = evaluate_model(autoencoder, test_loader, device)\n",
    "    print(\n",
    "        f\"Test Rec Loss: {rec_loss:.4f}, Test Triplet Loss: {triplet_loss_val:.4f}\",\n",
    "    )"
   ]
  },
  {
   "cell_type": "code",
   "execution_count": 79,
   "id": "64f7b97f",
   "metadata": {},
   "outputs": [
    {
     "name": "stdout",
     "output_type": "stream",
     "text": [
      "Original: April                                                                                               \n",
      "Predicted: Stril                                                                                               \n",
      "Original:                                                                                                     \n",
      "Predicted:                                                                                                     \n",
      "Original: No                                                                                                  \n",
      "Predicted: No                                                                                                  \n",
      "Original: GO-20141273911                                                                                      \n",
      "Predicted: GO-20141290881                                                                                      \n",
      "Original: 2014-01-01                                                                                          \n",
      "Predicted: 2024-01-01                                                                                          \n"
     ]
    }
   ],
   "source": [
    "def predict(model, items, device):\n",
    "    model.eval()\n",
    "    with torch.no_grad():\n",
    "        items_tensor = torch.tensor(items, dtype=torch.float32).to(device)\n",
    "        encoded_items = model.encoder(items_tensor)\n",
    "        decoded_items = model.decoder(encoded_items)\n",
    "    return decoded_items.cpu().numpy()\n",
    "\n",
    "\n",
    "test_indices = np.random.choice(len(test_items), size=5, replace=False)\n",
    "test_sample = test_items[test_indices]\n",
    "\n",
    "predicted_items = predict(autoencoder, test_sample, device)\n",
    "for i in range(len(test_sample)):\n",
    "    original_chars = []\n",
    "    predicted_chars = []\n",
    "\n",
    "    for j in range(100):\n",
    "        if test_sample[i, j].argmax() > 0:\n",
    "            original_chars.append(chr(np.argmax(test_sample[i, j]) - 1))\n",
    "        else:\n",
    "            original_chars.append(\" \")\n",
    "\n",
    "    for j in range(100):\n",
    "        if predicted_items[i, j].argmax() > 0:\n",
    "            predicted_chars.append(chr(np.argmax(predicted_items[i, j]) - 1))\n",
    "        else:\n",
    "            predicted_chars.append(\" \")\n",
    "\n",
    "    print(f\"Original: {''.join(original_chars)}\")\n",
    "    print(f\"Predicted: {''.join(predicted_chars)}\")"
   ]
  },
  {
   "cell_type": "code",
   "execution_count": 80,
   "id": "0b9f5757",
   "metadata": {},
   "outputs": [],
   "source": [
    "torch.save(autoencoder.state_dict(), \"../checkpoints/item_autoencoder.pth\")"
   ]
  },
  {
   "cell_type": "code",
   "execution_count": 81,
   "id": "bd8fa5fe",
   "metadata": {},
   "outputs": [
    {
     "name": "stderr",
     "output_type": "stream",
     "text": [
      "Clustering columns: 100%|██████████| 855/855 [00:04<00:00, 177.13it/s]\n"
     ]
    }
   ],
   "source": [
    "def get_column_embeddings(model, items_by_column, device):\n",
    "    model.eval()\n",
    "    embeddings = []\n",
    "    column_ids = []\n",
    "\n",
    "    for colname, items in tqdm(\n",
    "        list(items_by_column.items()), desc=\"Clustering columns\"\n",
    "    ):\n",
    "        items_tensor = torch.tensor(np.array(items), dtype=torch.float32).to(device)\n",
    "        with torch.no_grad():\n",
    "            embedding = model.encoder(items_tensor).cpu().numpy()\n",
    "            embeddings.append(embedding.mean(axis=0))\n",
    "            column_ids.append(colname)\n",
    "\n",
    "    embeddings = np.array(embeddings)\n",
    "    return embeddings, column_ids\n",
    "\n",
    "\n",
    "def cluster_columns(embeddings):\n",
    "    clusterer = HDBSCAN(\n",
    "        min_cluster_size=3,\n",
    "        metric=\"euclidean\",\n",
    "        cluster_selection_method=\"eom\",\n",
    "    )\n",
    "    cluster_labels = clusterer.fit_predict(embeddings)\n",
    "    return cluster_labels\n",
    "\n",
    "\n",
    "embeddings, column_ids = get_column_embeddings(autoencoder, train_dataset.items_by_col, device)\n",
    "cluster_labels = cluster_columns(embeddings)"
   ]
  },
  {
   "cell_type": "code",
   "execution_count": 82,
   "id": "bce07693",
   "metadata": {},
   "outputs": [
    {
     "name": "stdout",
     "output_type": "stream",
     "text": [
      "Cluster 0:\n",
      "  e9a267e7-85be-41f2-8fc9-e5c0ed3ab05b_monClose\n",
      "  e9a267e7-85be-41f2-8fc9-e5c0ed3ab05b_tueClose\n",
      "  e9a267e7-85be-41f2-8fc9-e5c0ed3ab05b_thuClose\n",
      "  e9a267e7-85be-41f2-8fc9-e5c0ed3ab05b_friClose\n",
      "Cluster 1:\n",
      "  e9a267e7-85be-41f2-8fc9-e5c0ed3ab05b_wedOpen\n",
      "  e9a267e7-85be-41f2-8fc9-e5c0ed3ab05b_wedClose\n",
      "  e9a267e7-85be-41f2-8fc9-e5c0ed3ab05b_satOpen\n",
      "  e9a267e7-85be-41f2-8fc9-e5c0ed3ab05b_satClose\n",
      "  e9a267e7-85be-41f2-8fc9-e5c0ed3ab05b_sunOpen\n",
      "  e9a267e7-85be-41f2-8fc9-e5c0ed3ab05b_sunClose\n",
      "Cluster 2:\n",
      "  e9a267e7-85be-41f2-8fc9-e5c0ed3ab05b_monOpen\n",
      "  e9a267e7-85be-41f2-8fc9-e5c0ed3ab05b_tueOpen\n",
      "  e9a267e7-85be-41f2-8fc9-e5c0ed3ab05b_thuOpen\n",
      "  e9a267e7-85be-41f2-8fc9-e5c0ed3ab05b_friOpen\n",
      "Cluster 3:\n",
      "  de539a35-7340-430b-8c75-0135161b82f1_CITY\n",
      "  7337adce-e574-4db6-92bd-31c956381eac_CITY\n",
      "  34c11c63-26b9-4f1c-837d-0d87d196ae5a_CITY\n",
      "  0a0b0be6-27a2-4b95-80d7-a0fa0aac5aef_CITY\n",
      "  f2c12e37-f533-4ecd-ac93-3166022fadec_CITY\n",
      "Cluster 4:\n",
      "  c5dcb036-9e50-45ad-ac78-6eaede8ed56e_DATE_EFFECTIVE\n",
      "  43d0edd1-7318-4da6-aff7-ee169d6ffa32_DATE_EFFECTIVE\n",
      "  c3b2e417-fb42-44db-96cc-db48fbbca8ef_DATE_EFFECTIVE\n",
      "  b8b22122-f57a-4de1-bd7d-d3af1bba5a5e_DATE_EFFECTIVE\n",
      "  eb42b978-02ad-4528-a033-8bebb9360c57_DATE_EFFECTIVE\n",
      "Cluster 5:\n",
      "  c5dcb036-9e50-45ad-ac78-6eaede8ed56e_DATE_EXPIRY\n",
      "  43d0edd1-7318-4da6-aff7-ee169d6ffa32_DATE_EXPIRY\n",
      "  b8b22122-f57a-4de1-bd7d-d3af1bba5a5e_DATE_EXPIRY\n",
      "  eb42b978-02ad-4528-a033-8bebb9360c57_DATE_EXPIRY\n",
      "Cluster 6:\n",
      "  866701b9-9e1f-4c39-92df-e1ec9e20cbbe_end_date\n",
      "  866701b9-9e1f-4c39-92df-e1ec9e20cbbe_start_date\n",
      "  73df7a5d-9914-4dfc-8e8b-b4b59acddb2f_Hydrant Install Date\n",
      "Cluster 7:\n",
      "  06dbedc6-2182-4118-9e05-a2fb08ba0b75_DATE_UPDATED\n",
      "  cc45e02e-999c-4f4a-a940-c1b64ceb22b2_DATE_UPDATED\n",
      "  0b2f590d-6287-41f3-ba40-ba9c01a692f1_DATE_UPDATED\n",
      "  0c062a15-3c99-436a-8e84-4e682314a8c9_DATE_UPDATED\n",
      "  00bdc10a-e129-4053-9f90-0c7ecd79e772_DATE_UPDATED\n",
      "  867186db-926e-4007-b1bd-d7de63ddc88e_DATE_UPDATED\n",
      "  ea32c251-845e-49fc-8fc2-35dd697887d4_DATE_UPDATED\n",
      "  5f316214-c5e6-404d-a46f-75742acd02fd_DATE_UPDATED\n",
      "  d54f3c02-3f16-4a18-b0ce-61b46a5660bd_DATE_UPDATED\n",
      "  7ed55e60-7788-499f-905b-15097c6ec008_DATE_UPDATED\n",
      "  2d871a67-3c4c-4004-be0d-c9fede4eb9b4_DATE_UPDATED\n",
      "  515333c0-4a1e-4f5b-b6b7-8e34858af268_DATE_UPDATED\n",
      "  929e514c-574a-4de3-9191-55f5da9288f1_DATE_UPDATED\n",
      "Cluster 8:\n",
      "  3507e2de-c62e-45c0-bc0c-6acaff024b8f_Sewer Gravity Install Date\n",
      "  40ba4dea-78e6-49b8-9b72-d1c7a30b5fd4_Sewer Maintenance Hole Install Date\n",
      "  d05b6356-5e00-40d7-8254-5a49d7ddaa1c_Sewer Inlet Install Date\n",
      "Cluster 9:\n",
      "  64d4e54b-738f-4cd9-a9e7-8050fac8a52f_ADDRESS_CLASS_DESC\n",
      "  de539a35-7340-430b-8c75-0135161b82f1_ADDRESS_CLASS_DESC\n",
      "  05f7edf5-df38-4ca8-b46d-fcd40b10c0e6_insStatus\n",
      "Cluster 10:\n",
      "  1882a1be-6898-45ea-83ca-56e30318c4d8_geometry\n",
      "  c5dcb036-9e50-45ad-ac78-6eaede8ed56e_geometry\n",
      "  f338785e-c3da-4a37-94e0-b3d6b862958a_geometry\n",
      "  46dd8b59-1e2f-47b6-83d5-c02fe4243029_geometry\n",
      "  b8a5db37-f367-4a79-958f-7d6b28326898_geometry\n",
      "  abc2127b-cbc2-456a-b879-2263b8949ac5_geometry\n",
      "  43d0edd1-7318-4da6-aff7-ee169d6ffa32_geometry\n",
      "  cd901994-5e21-4273-8f3a-1292f0a2fa09_geometry\n",
      "  67f2a1a8-29a5-4ac5-b25a-69f9ccfaaeb0_geometry\n",
      "  5306b618-92f6-4f1b-8ada-f455ee4c48a7_geometry\n",
      "  c3b2e417-fb42-44db-96cc-db48fbbca8ef_geometry\n",
      "  b8b22122-f57a-4de1-bd7d-d3af1bba5a5e_geometry\n",
      "  2ab99ca3-287d-4974-8701-54a361dd9b20_geometry\n",
      "  23d1f792-018f-4069-ac5d-443e932e1b78_geometry\n",
      "  6dd8eaff-d37b-40ec-8edb-3bdd0a666f27_geometry\n",
      "  02898503-a367-4221-9e74-7addb260d110_geometry\n",
      "Cluster 11:\n",
      "  15048cc4-bdcf-4bcd-907b-5ce57c3493c6_geometry\n",
      "  4dec5884-a5cf-49e7-b562-f835150dc0b1_geometry\n",
      "  3507e2de-c62e-45c0-bc0c-6acaff024b8f_geometry\n",
      "  1795cabb-685b-44b5-801b-e0e6c2c3e8f3_geometry\n",
      "Cluster 12:\n",
      "  b8ac9622-3807-4fed-a881-ab4d860c49d6_STATUS\n",
      "  18937890-dcdb-4e04-b341-b16c553d4c46_STATUS\n",
      "  2cb2c65a-1565-4382-8fe3-3a235aec7655_Status\n",
      "  ecf41899-aed0-405e-aa76-118600f3a303_STATUS\n",
      "  ecf41899-aed0-405e-aa76-118600f3a303_POSTERBOARDSTATUS\n",
      "  cdb49196-0d6a-466a-8ec8-88336a102778_STATUS\n",
      "  94b21ed8-1a5a-4f51-810f-d8a4664dd89a_STATUS\n",
      "  b6696467-54d4-4b5b-acff-5b9085d94ff9_STATUS\n",
      "  b6696467-54d4-4b5b-acff-5b9085d94ff9_POSTERBOARDSTATUS\n",
      "Cluster 13:\n",
      "  5b2c65a5-d7f8-431c-b81b-28a833a5b221_CON_METHOD\n",
      "  e9a267e7-85be-41f2-8fc9-e5c0ed3ab05b_phone\n",
      "  48f078e1-1aba-4ed6-8952-53391b11c5c2_Phone\n",
      "Cluster 14:\n",
      "  fa96223e-ccf8-4c0a-817b-6f5039311287_collectionDate\n",
      "  46dd8b59-1e2f-47b6-83d5-c02fe4243029_LAST_GEOMETRY_MAINT\n",
      "  46dd8b59-1e2f-47b6-83d5-c02fe4243029_LAST_ATTRIBUTE_MAINT\n",
      "  7fa98ab2-7412-43cd-9270-cb44dd75b573_EVALUATION COMPLETED ON\n",
      "  05f7edf5-df38-4ca8-b46d-fcd40b10c0e6_insDate\n",
      "  1795cabb-685b-44b5-801b-e0e6c2c3e8f3_LAST_GEOMETRY_MAINT\n",
      "  1795cabb-685b-44b5-801b-e0e6c2c3e8f3_LAST_ATTRIBUTE_MAINT\n",
      "  969ffba2-354c-48e0-9ad3-f16a5608116d_Date_Added\n",
      "Cluster 15:\n",
      "  55136dac-26b1-4028-b9f5-7c2344f94153_OCC_DATE\n",
      "  55136dac-26b1-4028-b9f5-7c2344f94153_REPORT_DATE\n",
      "  23d1f792-018f-4069-ac5d-443e932e1b78_DATE_EFFECTIVE\n",
      "Cluster 16:\n",
      "  dd866296-27e9-4872-beeb-33b582fd7bfb_Asset ID\n",
      "  edec0c61-554f-40b0-a180-d86795afc163_Asset ID\n",
      "  73df7a5d-9914-4dfc-8e8b-b4b59acddb2f_Asset Identification\n",
      "Cluster 17:\n",
      "  dd866296-27e9-4872-beeb-33b582fd7bfb_Water Valve Purpose\n",
      "  43d0edd1-7318-4da6-aff7-ee169d6ffa32_AREA_TYPE\n",
      "  43d0edd1-7318-4da6-aff7-ee169d6ffa32_AREA_CLASS\n",
      "Cluster 18:\n",
      "  b8ac9622-3807-4fed-a881-ab4d860c49d6_ID\n",
      "  18937890-dcdb-4e04-b341-b16c553d4c46_ID\n",
      "  b6696467-54d4-4b5b-acff-5b9085d94ff9_ID\n",
      "Cluster 19:\n",
      "  ecf41899-aed0-405e-aa76-118600f3a303_ID\n",
      "  cdb49196-0d6a-466a-8ec8-88336a102778_ID\n",
      "  94b21ed8-1a5a-4f51-810f-d8a4664dd89a_ID\n",
      "Cluster 20:\n",
      "  b8ac9622-3807-4fed-a881-ab4d860c49d6_BARCODE\n",
      "  18937890-dcdb-4e04-b341-b16c553d4c46_BARCODE\n",
      "  cdb49196-0d6a-466a-8ec8-88336a102778_BARCODE\n",
      "  94b21ed8-1a5a-4f51-810f-d8a4664dd89a_BARCODE\n",
      "Cluster 21:\n",
      "  d5d2b7e1-d0a1-4c1a-aab6-3413ccbbe156_LICENCE_NUMBER\n",
      "  55136dac-26b1-4028-b9f5-7c2344f94153_EVENT_UNIQUE_ID\n",
      "  b3d908dc-e12f-4aae-90c1-bd2cb1b52b26_Permit_No\n",
      "  4dec5884-a5cf-49e7-b562-f835150dc0b1_JURISDICTION\n",
      "  a1071c78-7b25-41e0-897f-607c2fb8980c_SOURCE_FEATURE_TYPE\n",
      "  3507e2de-c62e-45c0-bc0c-6acaff024b8f_Sewer Gravity Upstream Maintenance Hole\n",
      "  3507e2de-c62e-45c0-bc0c-6acaff024b8f_Sewer Gravity Downstream Maintenance Hole\n",
      "  53b67627-b5e4-49a2-aef9-53132af50d07_Asset Identification\n",
      "  40ba4dea-78e6-49b8-9b72-d1c7a30b5fd4_Asset Identification\n",
      "  d05b6356-5e00-40d7-8254-5a49d7ddaa1c_Asset Identification\n",
      "Cluster 22:\n",
      "  55136dac-26b1-4028-b9f5-7c2344f94153_DIVISION\n",
      "  b4e984de-493b-476c-b8be-60f142312d71_DIVISION\n",
      "  abc2127b-cbc2-456a-b879-2263b8949ac5_AREA_TYPE\n",
      "  abc2127b-cbc2-456a-b879-2263b8949ac5_AREA_CLASS\n",
      "  cb890861-ed20-4862-bb75-b1f9ec1e58dd_DIVISION\n",
      "Cluster 23:\n",
      "  06dbedc6-2182-4118-9e05-a2fb08ba0b75_POSTAL_CODE\n",
      "  cc45e02e-999c-4f4a-a940-c1b64ceb22b2_POSTAL_CODE\n",
      "  0b2f590d-6287-41f3-ba40-ba9c01a692f1_POSTAL_CODE\n",
      "  0c062a15-3c99-436a-8e84-4e682314a8c9_POSTAL_CODE\n",
      "  de539a35-7340-430b-8c75-0135161b82f1_POSTAL_CODE\n",
      "  7337adce-e574-4db6-92bd-31c956381eac_POSTAL_CODE\n",
      "  00bdc10a-e129-4053-9f90-0c7ecd79e772_POSTAL_CODE\n",
      "  74eb5418-42c8-49d3-a62f-69941f0161f3_PCODE\n",
      "  74eb5418-42c8-49d3-a62f-69941f0161f3_run_date\n",
      "  867186db-926e-4007-b1bd-d7de63ddc88e_POSTAL_CODE\n",
      "  34c11c63-26b9-4f1c-837d-0d87d196ae5a_POSTAL_CODE\n",
      "  ea32c251-845e-49fc-8fc2-35dd697887d4_POSTAL_CODE\n",
      "  5f316214-c5e6-404d-a46f-75742acd02fd_POSTAL_CODE\n",
      "  31f70a35-4901-409a-90a4-1a5fef74575c_PSTL_CODE\n",
      "  d54f3c02-3f16-4a18-b0ce-61b46a5660bd_POSTAL_CODE\n",
      "  0a0b0be6-27a2-4b95-80d7-a0fa0aac5aef_POSTAL_CODE\n",
      "  7ed55e60-7788-499f-905b-15097c6ec008_POSTAL_CODE\n",
      "  6d1fcabd-a353-44e5-a81a-0640237d1853_POSTAL_CODE\n",
      "  f2c12e37-f533-4ecd-ac93-3166022fadec_POSTAL_CODE\n",
      "  2d871a67-3c4c-4004-be0d-c9fede4eb9b4_POSTAL_CODE\n",
      "  515333c0-4a1e-4f5b-b6b7-8e34858af268_POSTAL_CODE\n",
      "  929e514c-574a-4de3-9191-55f5da9288f1_POSTAL_CODE\n",
      "Cluster 24:\n",
      "  55136dac-26b1-4028-b9f5-7c2344f94153_BIKE_COLOUR\n",
      "  43d0edd1-7318-4da6-aff7-ee169d6ffa32_AREA_LONG_CODE\n",
      "  43d0edd1-7318-4da6-aff7-ee169d6ffa32_SD_LCODE_NAME\n",
      "  cb890861-ed20-4862-bb75-b1f9ec1e58dd_AUTOMOBILE\n",
      "Cluster 25:\n",
      "  b8ac9622-3807-4fed-a881-ab4d860c49d6_geometry\n",
      "  06dbedc6-2182-4118-9e05-a2fb08ba0b75_geometry\n",
      "  cc45e02e-999c-4f4a-a940-c1b64ceb22b2_geometry\n",
      "  b65cd31d-fabc-4222-83ef-8ddd11295d2b_geometry\n",
      "  18937890-dcdb-4e04-b341-b16c553d4c46_geometry\n",
      "  0b2f590d-6287-41f3-ba40-ba9c01a692f1_geometry\n",
      "  dd866296-27e9-4872-beeb-33b582fd7bfb_geometry\n",
      "  ecf41899-aed0-405e-aa76-118600f3a303_geometry\n",
      "  edb562a7-6e3e-4140-8a01-8ae2feb7dec9_geometry\n",
      "  0c062a15-3c99-436a-8e84-4e682314a8c9_geometry\n",
      "  f16dbf16-880b-43fd-8d2d-4bc7516c57c7_geometry\n",
      "  edec0c61-554f-40b0-a180-d86795afc163_geometry\n",
      "  879e7dab-976a-49b1-b62a-9c1a2f9cd9f2_geometry\n",
      "  cdb49196-0d6a-466a-8ec8-88336a102778_geometry\n",
      "  de539a35-7340-430b-8c75-0135161b82f1_geometry\n",
      "  7337adce-e574-4db6-92bd-31c956381eac_geometry\n",
      "  73df7a5d-9914-4dfc-8e8b-b4b59acddb2f_geometry\n",
      "  5b2c65a5-d7f8-431c-b81b-28a833a5b221_geometry\n",
      "  00bdc10a-e129-4053-9f90-0c7ecd79e772_geometry\n",
      "  867186db-926e-4007-b1bd-d7de63ddc88e_geometry\n",
      "  34c11c63-26b9-4f1c-837d-0d87d196ae5a_geometry\n",
      "  ea32c251-845e-49fc-8fc2-35dd697887d4_geometry\n",
      "  53b67627-b5e4-49a2-aef9-53132af50d07_geometry\n",
      "  5f316214-c5e6-404d-a46f-75742acd02fd_geometry\n",
      "  94b21ed8-1a5a-4f51-810f-d8a4664dd89a_geometry\n",
      "  d54f3c02-3f16-4a18-b0ce-61b46a5660bd_geometry\n",
      "  40ba4dea-78e6-49b8-9b72-d1c7a30b5fd4_geometry\n",
      "  0a0b0be6-27a2-4b95-80d7-a0fa0aac5aef_geometry\n",
      "  b6696467-54d4-4b5b-acff-5b9085d94ff9_geometry\n",
      "  7ed55e60-7788-499f-905b-15097c6ec008_geometry\n",
      "  6d1fcabd-a353-44e5-a81a-0640237d1853_geometry\n",
      "  d05b6356-5e00-40d7-8254-5a49d7ddaa1c_geometry\n",
      "  f2c12e37-f533-4ecd-ac93-3166022fadec_geometry\n",
      "  2d871a67-3c4c-4004-be0d-c9fede4eb9b4_geometry\n",
      "  515333c0-4a1e-4f5b-b6b7-8e34858af268_geometry\n",
      "  eb42b978-02ad-4528-a033-8bebb9360c57_geometry\n",
      "  929e514c-574a-4de3-9191-55f5da9288f1_geometry\n",
      "Cluster 26:\n",
      "  64d4e54b-738f-4cd9-a9e7-8050fac8a52f_geometry\n",
      "  a1071c78-7b25-41e0-897f-607c2fb8980c_geometry\n",
      "  3daea1c8-40c4-45bc-98a5-00ae033ad59d_geometry\n",
      "  31f70a35-4901-409a-90a4-1a5fef74575c_geometry\n",
      "Cluster 27:\n",
      "  7fa98ab2-7412-43cd-9270-cb44dd75b573_FENCING\n",
      "  7fa98ab2-7412-43cd-9270-cb44dd75b573_EXT. RECEPTACLE STORAGE AREA\n",
      "  7fa98ab2-7412-43cd-9270-cb44dd75b573_LAUNDRY ROOM\n",
      "  7fa98ab2-7412-43cd-9270-cb44dd75b573_GARBAGE/COMPACTOR ROOM\n",
      "Cluster 28:\n",
      "  7fa98ab2-7412-43cd-9270-cb44dd75b573_LOBBY FLOORS\n",
      "  7fa98ab2-7412-43cd-9270-cb44dd75b573_INT. RECEPTACLE STORAGE AREA\n",
      "  7fa98ab2-7412-43cd-9270-cb44dd75b573_ELEVATOR COSMETICS\n",
      "Cluster 29:\n",
      "  55136dac-26b1-4028-b9f5-7c2344f94153_geometry\n",
      "  74eb5418-42c8-49d3-a62f-69941f0161f3_geometry\n",
      "  48f078e1-1aba-4ed6-8952-53391b11c5c2_geometry\n",
      "  969ffba2-354c-48e0-9ad3-f16a5608116d_geometry\n",
      "Cluster 30:\n",
      "  2cb2c65a-1565-4382-8fe3-3a235aec7655_geometry\n",
      "  866701b9-9e1f-4c39-92df-e1ec9e20cbbe_geometry\n",
      "  d37c909a-fedb-4dac-8b8e-56f4df632510_geometry\n",
      "  fa96223e-ccf8-4c0a-817b-6f5039311287_geometry\n",
      "  757d840a-352a-4522-b695-8dfb6f06dc50_geometry\n",
      "  05f7edf5-df38-4ca8-b46d-fcd40b10c0e6_geometry\n",
      "  fb360b66-7f89-4477-8fae-435fd422d02e_geometry\n",
      "  ae850b3c-3c4f-4259-8be2-98176a554040_geometry\n",
      "Cluster 31:\n",
      "  b8ac9622-3807-4fed-a881-ab4d860c49d6_SIDE\n",
      "  b8ac9622-3807-4fed-a881-ab4d860c49d6_DIRECTION\n",
      "  18937890-dcdb-4e04-b341-b16c553d4c46_SIDE\n",
      "  18937890-dcdb-4e04-b341-b16c553d4c46_DIRECTION\n",
      "  dd866296-27e9-4872-beeb-33b582fd7bfb_Water Valve Type\n",
      "  ecf41899-aed0-405e-aa76-118600f3a303_SIDE\n",
      "  ecf41899-aed0-405e-aa76-118600f3a303_DIRECTION\n",
      "  879e7dab-976a-49b1-b62a-9c1a2f9cd9f2_District\n",
      "  b4e984de-493b-476c-b8be-60f142312d71_SEX\n",
      "  b4e984de-493b-476c-b8be-60f142312d71_AGE_GROUP\n",
      "  cdb49196-0d6a-466a-8ec8-88336a102778_SIDE\n",
      "  cdb49196-0d6a-466a-8ec8-88336a102778_DIRECTION\n",
      "  5b2c65a5-d7f8-431c-b81b-28a833a5b221_CONDITION\n",
      "  94b21ed8-1a5a-4f51-810f-d8a4664dd89a_SIDE\n",
      "  94b21ed8-1a5a-4f51-810f-d8a4664dd89a_DIRECTION\n",
      "  b6696467-54d4-4b5b-acff-5b9085d94ff9_SIDE\n",
      "  b6696467-54d4-4b5b-acff-5b9085d94ff9_DIRECTION\n",
      "  6036d8be-4c37-4fbf-9870-e10ad5bc60d6_AGE_GROUP\n",
      "Cluster 32:\n",
      "  ecf41899-aed0-405e-aa76-118600f3a303_POSTERBOARD\n",
      "  64d4e54b-738f-4cd9-a9e7-8050fac8a52f_LINEAR_NAME_TYPE\n",
      "  64d4e54b-738f-4cd9-a9e7-8050fac8a52f_MUNICIPALITY\n",
      "  edec0c61-554f-40b0-a180-d86795afc163_Water Fitting Type\n",
      "  4dec5884-a5cf-49e7-b562-f835150dc0b1_LINEAR_NAME_TYPE\n",
      "  4dec5884-a5cf-49e7-b562-f835150dc0b1_LINEAR_NAME_DESC\n",
      "  48f078e1-1aba-4ed6-8952-53391b11c5c2_Lights\n",
      "  48f078e1-1aba-4ed6-8952-53391b11c5c2_WinterPlay\n",
      "  b6696467-54d4-4b5b-acff-5b9085d94ff9_POSTERBOARD\n",
      "Cluster 33:\n",
      "  34c11c63-26b9-4f1c-837d-0d87d196ae5a_BY_LAW\n",
      "  cb890861-ed20-4862-bb75-b1f9ec1e58dd_INJURY_COLLISIONS\n",
      "  cb890861-ed20-4862-bb75-b1f9ec1e58dd_FTR_COLLISIONS\n",
      "  cb890861-ed20-4862-bb75-b1f9ec1e58dd_PD_COLLISIONS\n",
      "  cb890861-ed20-4862-bb75-b1f9ec1e58dd_MOTORCYCLE\n",
      "  cb890861-ed20-4862-bb75-b1f9ec1e58dd_PASSENGER\n",
      "  cb890861-ed20-4862-bb75-b1f9ec1e58dd_BICYCLE\n",
      "  cb890861-ed20-4862-bb75-b1f9ec1e58dd_PEDESTRIAN\n",
      "Cluster 34:\n",
      "  edb562a7-6e3e-4140-8a01-8ae2feb7dec9_Sewer Junction Flow Type\n",
      "  3507e2de-c62e-45c0-bc0c-6acaff024b8f_Sewer Gravity Flow Type\n",
      "  53b67627-b5e4-49a2-aef9-53132af50d07_Sewer Outfall Flow Type\n",
      "  40ba4dea-78e6-49b8-9b72-d1c7a30b5fd4_Sewer Maintenance Hole Flow Type\n",
      "Cluster 35:\n",
      "  7337adce-e574-4db6-92bd-31c956381eac_MAP_ACCESS\n",
      "  74eb5418-42c8-49d3-a62f-69941f0161f3_subsidy\n",
      "  74eb5418-42c8-49d3-a62f-69941f0161f3_cwelcc_flag\n",
      "Cluster 36:\n",
      "  b3d908dc-e12f-4aae-90c1-bd2cb1b52b26_Permit_Address_Unit\n",
      "  7337adce-e574-4db6-92bd-31c956381eac_ADDRESS_INFO\n",
      "  7337adce-e574-4db6-92bd-31c956381eac_EMAIL\n",
      "  7337adce-e574-4db6-92bd-31c956381eac_RECEIVED_DATE\n",
      "  7337adce-e574-4db6-92bd-31c956381eac_PLACE_NAME\n",
      "  7337adce-e574-4db6-92bd-31c956381eac_LO_NUM_SUF\n",
      "  7337adce-e574-4db6-92bd-31c956381eac_HI_NUM\n",
      "  7337adce-e574-4db6-92bd-31c956381eac_HI_NUM_SUF\n",
      "  5306b618-92f6-4f1b-8ada-f455ee4c48a7_STATUS\n",
      "Cluster 37:\n",
      "  06dbedc6-2182-4118-9e05-a2fb08ba0b75_LEGAL_STATUS\n",
      "  cc45e02e-999c-4f4a-a940-c1b64ceb22b2_LEGAL_STATUS\n",
      "  0b2f590d-6287-41f3-ba40-ba9c01a692f1_LEGAL_STATUS\n",
      "  0c062a15-3c99-436a-8e84-4e682314a8c9_LEGAL_STATUS\n",
      "  00bdc10a-e129-4053-9f90-0c7ecd79e772_LEGAL_STATUS\n",
      "  5f316214-c5e6-404d-a46f-75742acd02fd_LEGAL_STATUS\n",
      "  d54f3c02-3f16-4a18-b0ce-61b46a5660bd_LEGAL_STATUS\n",
      "  7ed55e60-7788-499f-905b-15097c6ec008_LEGAL_STATUS\n",
      "  2d871a67-3c4c-4004-be0d-c9fede4eb9b4_LEGAL_STATUS\n",
      "  515333c0-4a1e-4f5b-b6b7-8e34858af268_LEGAL_STATUS\n",
      "  929e514c-574a-4de3-9191-55f5da9288f1_LEGAL_STATUS\n",
      "Cluster 38:\n",
      "  866701b9-9e1f-4c39-92df-e1ec9e20cbbe_dir\n",
      "  55136dac-26b1-4028-b9f5-7c2344f94153_BIKE_TYPE\n",
      "  3507e2de-c62e-45c0-bc0c-6acaff024b8f_Sewer Gravity Structure Type\n",
      "  f2c12e37-f533-4ecd-ac93-3166022fadec_SCHOOL_TYPE\n",
      "Cluster 39:\n",
      "  ecf41899-aed0-405e-aa76-118600f3a303_ASSETTYPE\n",
      "  64d4e54b-738f-4cd9-a9e7-8050fac8a52f_LO_NUM_SUF\n",
      "  757d840a-352a-4522-b695-8dfb6f06dc50_TourLabel\n",
      "  34c11c63-26b9-4f1c-837d-0d87d196ae5a_LO_NUM_SUF\n",
      "  b6696467-54d4-4b5b-acff-5b9085d94ff9_ASSETTYPE\n",
      "  f2c12e37-f533-4ecd-ac93-3166022fadec_LO_NUM_SUF\n",
      "Cluster 40:\n",
      "  64d4e54b-738f-4cd9-a9e7-8050fac8a52f_CENTRELINE_SIDE\n",
      "  4dec5884-a5cf-49e7-b562-f835150dc0b1_PARITY_L\n",
      "  4dec5884-a5cf-49e7-b562-f835150dc0b1_PARITY_R\n",
      "  de539a35-7340-430b-8c75-0135161b82f1_CENTRELINE_SIDE\n",
      "  a1071c78-7b25-41e0-897f-607c2fb8980c_FEATURE_CODE\n",
      "Cluster 41:\n",
      "  b8ac9622-3807-4fed-a881-ab4d860c49d6_ADDRESSNUMBERTEXT\n",
      "  18937890-dcdb-4e04-b341-b16c553d4c46_ADDRESSNUMBERTEXT\n",
      "  2cb2c65a-1565-4382-8fe3-3a235aec7655_Source_ID\n",
      "  2cb2c65a-1565-4382-8fe3-3a235aec7655_YEAR_INSTALLED\n",
      "  ecf41899-aed0-405e-aa76-118600f3a303_ADDRESSNUMBERTEXT\n",
      "  64d4e54b-738f-4cd9-a9e7-8050fac8a52f_ADDRESS_NUMBER\n",
      "  b3d908dc-e12f-4aae-90c1-bd2cb1b52b26_Permit_Address_Street_No\n",
      "  b4e984de-493b-476c-b8be-60f142312d71_HOOD_158\n",
      "  cdb49196-0d6a-466a-8ec8-88336a102778_ADDRESSNUMBERTEXT\n",
      "  fa96223e-ccf8-4c0a-817b-6f5039311287_siteName\n",
      "  5b2c65a5-d7f8-431c-b81b-28a833a5b221_STR_ID\n",
      "  5b2c65a5-d7f8-431c-b81b-28a833a5b221_YEAR_BUILT\n",
      "  a1071c78-7b25-41e0-897f-607c2fb8980c_ADDRESS_NUMBER\n",
      "  7fa98ab2-7412-43cd-9270-cb44dd75b573_WARD\n",
      "  34c11c63-26b9-4f1c-837d-0d87d196ae5a_ADDRESS_NUMBER\n",
      "  cb890861-ed20-4862-bb75-b1f9ec1e58dd_HOOD_158\n",
      "  94b21ed8-1a5a-4f51-810f-d8a4664dd89a_ADDRESSNUMBERTEXT\n",
      "  b6696467-54d4-4b5b-acff-5b9085d94ff9_ADDRESSNUMBERTEXT\n",
      "  6036d8be-4c37-4fbf-9870-e10ad5bc60d6_HOOD_158\n",
      "  f2c12e37-f533-4ecd-ac93-3166022fadec_ADDRESS_NUMBER\n",
      "  23d1f792-018f-4069-ac5d-443e932e1b78_ADDRESS_NUMBER\n",
      "Cluster 42:\n",
      "  b65cd31d-fabc-4222-83ef-8ddd11295d2b_STRUCTID\n",
      "  c3b2e417-fb42-44db-96cc-db48fbbca8ef_AREA_SHORT_CODE\n",
      "  c3b2e417-fb42-44db-96cc-db48fbbca8ef_AREA_LONG_CODE\n",
      "Cluster 43:\n",
      "  b8ac9622-3807-4fed-a881-ab4d860c49d6_SITEID\n",
      "  4dec5884-a5cf-49e7-b562-f835150dc0b1_ADDRESS_L\n",
      "  4dec5884-a5cf-49e7-b562-f835150dc0b1_ADDRESS_R\n",
      "  cdb49196-0d6a-466a-8ec8-88336a102778_SITEID\n",
      "  7fa98ab2-7412-43cd-9270-cb44dd75b573_GRID\n",
      "  94b21ed8-1a5a-4f51-810f-d8a4664dd89a_SITEID\n",
      "  23d1f792-018f-4069-ac5d-443e932e1b78_PLAN_NAME\n",
      "Cluster 44:\n",
      "  06dbedc6-2182-4118-9e05-a2fb08ba0b75_MUNICIPALITY\n",
      "  cc45e02e-999c-4f4a-a940-c1b64ceb22b2_MUNICIPALITY\n",
      "  0b2f590d-6287-41f3-ba40-ba9c01a692f1_MUNICIPALITY\n",
      "  0c062a15-3c99-436a-8e84-4e682314a8c9_MUNICIPALITY\n",
      "  de539a35-7340-430b-8c75-0135161b82f1_MUNICIPALITY\n",
      "  7337adce-e574-4db6-92bd-31c956381eac_MUNICIPALITY\n",
      "  00bdc10a-e129-4053-9f90-0c7ecd79e772_MUNICIPALITY\n",
      "  867186db-926e-4007-b1bd-d7de63ddc88e_MUNICIPALITY\n",
      "  34c11c63-26b9-4f1c-837d-0d87d196ae5a_MUNICIPALITY\n",
      "  ea32c251-845e-49fc-8fc2-35dd697887d4_MUNICIPALITY\n",
      "  5f316214-c5e6-404d-a46f-75742acd02fd_MUNICIPALITY\n",
      "  d54f3c02-3f16-4a18-b0ce-61b46a5660bd_MUNICIPALITY\n",
      "  0a0b0be6-27a2-4b95-80d7-a0fa0aac5aef_MUNICIPALITY\n",
      "  7ed55e60-7788-499f-905b-15097c6ec008_MUNICIPALITY\n",
      "  6d1fcabd-a353-44e5-a81a-0640237d1853_CITY\n",
      "  6d1fcabd-a353-44e5-a81a-0640237d1853_MUNICIPALITY\n",
      "  f2c12e37-f533-4ecd-ac93-3166022fadec_MUNICIPALITY\n",
      "  2d871a67-3c4c-4004-be0d-c9fede4eb9b4_MUNICIPALITY\n",
      "  515333c0-4a1e-4f5b-b6b7-8e34858af268_MUNICIPALITY\n",
      "  929e514c-574a-4de3-9191-55f5da9288f1_MUNICIPALITY\n",
      "Cluster 45:\n",
      "  06dbedc6-2182-4118-9e05-a2fb08ba0b75_OFFICE_PHONE\n",
      "  cc45e02e-999c-4f4a-a940-c1b64ceb22b2_OFFICE_PHONE\n",
      "  0b2f590d-6287-41f3-ba40-ba9c01a692f1_OFFICE_PHONE\n",
      "  0c062a15-3c99-436a-8e84-4e682314a8c9_OFFICE_PHONE\n",
      "  7337adce-e574-4db6-92bd-31c956381eac_PHONE\n",
      "  00bdc10a-e129-4053-9f90-0c7ecd79e772_OFFICE_PHONE\n",
      "  ea32c251-845e-49fc-8fc2-35dd697887d4_OFFICE_PHONE\n",
      "  5f316214-c5e6-404d-a46f-75742acd02fd_OFFICE_PHONE\n",
      "  d54f3c02-3f16-4a18-b0ce-61b46a5660bd_OFFICE_PHONE\n",
      "  7ed55e60-7788-499f-905b-15097c6ec008_OFFICE_PHONE\n",
      "  2d871a67-3c4c-4004-be0d-c9fede4eb9b4_OFFICE_PHONE\n",
      "  515333c0-4a1e-4f5b-b6b7-8e34858af268_OFFICE_PHONE\n",
      "  969ffba2-354c-48e0-9ad3-f16a5608116d_phone\n",
      "  929e514c-574a-4de3-9191-55f5da9288f1_OFFICE_PHONE\n",
      "Cluster 46:\n",
      "  55136dac-26b1-4028-b9f5-7c2344f94153_OCC_DOW\n",
      "  55136dac-26b1-4028-b9f5-7c2344f94153_REPORT_DOW\n",
      "  a1071c78-7b25-41e0-897f-607c2fb8980c_FEATURE_CODE_DESC\n",
      "Cluster 47:\n",
      "  2cb2c65a-1565-4382-8fe3-3a235aec7655_ArtForm\n",
      "  cb890861-ed20-4862-bb75-b1f9ec1e58dd_OCC_DOW\n",
      "  31f70a35-4901-409a-90a4-1a5fef74575c_SCATTERED\n",
      "Cluster 48:\n",
      "  06dbedc6-2182-4118-9e05-a2fb08ba0b75_ORGANIZATION_ADDRESS\n",
      "  cc45e02e-999c-4f4a-a940-c1b64ceb22b2_ORGANIZATION_ADDRESS\n",
      "  0b2f590d-6287-41f3-ba40-ba9c01a692f1_ORGANIZATION_ADDRESS\n",
      "  0c062a15-3c99-436a-8e84-4e682314a8c9_ORGANIZATION_ADDRESS\n",
      "  00bdc10a-e129-4053-9f90-0c7ecd79e772_ORGANIZATION_ADDRESS\n",
      "  867186db-926e-4007-b1bd-d7de63ddc88e_ORGANIZATION_ADDRESS\n",
      "  ea32c251-845e-49fc-8fc2-35dd697887d4_ORGANIZATION_ADDRESS\n",
      "  5f316214-c5e6-404d-a46f-75742acd02fd_ORGANIZATION_ADDRESS\n",
      "  d54f3c02-3f16-4a18-b0ce-61b46a5660bd_ORGANIZATION_ADDRESS\n",
      "  7ed55e60-7788-499f-905b-15097c6ec008_ORGANIZATION_ADDRESS\n",
      "  2d871a67-3c4c-4004-be0d-c9fede4eb9b4_ORGANIZATION_ADDRESS\n",
      "  515333c0-4a1e-4f5b-b6b7-8e34858af268_ORGANIZATION_ADDRESS\n",
      "  929e514c-574a-4de3-9191-55f5da9288f1_ORGANIZATION_ADDRESS\n",
      "Cluster 49:\n",
      "  55136dac-26b1-4028-b9f5-7c2344f94153_BIKE_MODEL\n",
      "  cd901994-5e21-4273-8f3a-1292f0a2fa09_AREA_NAME\n",
      "  cd901994-5e21-4273-8f3a-1292f0a2fa09_AREA_DESC\n",
      "Cluster 50:\n",
      "  d5d2b7e1-d0a1-4c1a-aab6-3413ccbbe156_BUSINESS_ADDRESS\n",
      "  d5d2b7e1-d0a1-4c1a-aab6-3413ccbbe156_MUNICIPAL_ADDRESS\n",
      "  879e7dab-976a-49b1-b62a-9c1a2f9cd9f2_Address\n",
      "  7fa98ab2-7412-43cd-9270-cb44dd75b573_SITE ADDRESS\n",
      "  74eb5418-42c8-49d3-a62f-69941f0161f3_ADDRESS\n",
      "  05f7edf5-df38-4ca8-b46d-fcd40b10c0e6_addrFull\n",
      "  e9a267e7-85be-41f2-8fc9-e5c0ed3ab05b_address\n",
      "  0a0b0be6-27a2-4b95-80d7-a0fa0aac5aef_EMS_ADDRESS\n",
      "  f2c12e37-f533-4ecd-ac93-3166022fadec_SOURCE_ADDRESS\n",
      "Cluster 51:\n",
      "  73df7a5d-9914-4dfc-8e8b-b4b59acddb2f_Hydrant Managed By\n",
      "  5b2c65a5-d7f8-431c-b81b-28a833a5b221_CATEGORY\n",
      "  3507e2de-c62e-45c0-bc0c-6acaff024b8f_Sewer Gravity Managed By\n",
      "Cluster 52:\n",
      "  b65cd31d-fabc-4222-83ef-8ddd11295d2b_SITE\n",
      "  d5d2b7e1-d0a1-4c1a-aab6-3413ccbbe156_OPERATOR_NAME\n",
      "  05f7edf5-df38-4ca8-b46d-fcd40b10c0e6_estName\n",
      "  3daea1c8-40c4-45bc-98a5-00ae033ad59d_ADDITIONAL_INFO\n",
      "Cluster 53:\n",
      "  b65cd31d-fabc-4222-83ef-8ddd11295d2b_STREETNAME\n",
      "  b65cd31d-fabc-4222-83ef-8ddd11295d2b_CROSSSTREET1\n",
      "  b65cd31d-fabc-4222-83ef-8ddd11295d2b_CROSSSTREET2\n",
      "  d5d2b7e1-d0a1-4c1a-aab6-3413ccbbe156_STREET_NAME_SHORTENED\n",
      "  b3d908dc-e12f-4aae-90c1-bd2cb1b52b26_Permit_Address_Street_Name\n",
      "  3507e2de-c62e-45c0-bc0c-6acaff024b8f_Sewer Gravity Location Description\n",
      "  3daea1c8-40c4-45bc-98a5-00ae033ad59d_MAIN_STREET\n",
      "  3daea1c8-40c4-45bc-98a5-00ae033ad59d_SIDE1_STREET\n",
      "  3daea1c8-40c4-45bc-98a5-00ae033ad59d_SIDE2_STREET\n",
      "Cluster 54:\n",
      "  866701b9-9e1f-4c39-92df-e1ec9e20cbbe_address\n",
      "  f16dbf16-880b-43fd-8d2d-4bc7516c57c7_address\n",
      "  969ffba2-354c-48e0-9ad3-f16a5608116d_address\n",
      "Cluster 55:\n",
      "  06dbedc6-2182-4118-9e05-a2fb08ba0b75_ADDRESS_FULL\n",
      "  cc45e02e-999c-4f4a-a940-c1b64ceb22b2_ADDRESS_FULL\n",
      "  0b2f590d-6287-41f3-ba40-ba9c01a692f1_ADDRESS_FULL\n",
      "  64d4e54b-738f-4cd9-a9e7-8050fac8a52f_ADDRESS_FULL\n",
      "  0c062a15-3c99-436a-8e84-4e682314a8c9_ADDRESS_FULL\n",
      "  d37c909a-fedb-4dac-8b8e-56f4df632510_Anchor Address\n",
      "  de539a35-7340-430b-8c75-0135161b82f1_ADDRESS_FULL\n",
      "  de539a35-7340-430b-8c75-0135161b82f1_CLIENT_ADDRESS\n",
      "  7337adce-e574-4db6-92bd-31c956381eac_ADDRESS_FULL\n",
      "  00bdc10a-e129-4053-9f90-0c7ecd79e772_ADDRESS_FULL\n",
      "  a1071c78-7b25-41e0-897f-607c2fb8980c_ADDRESS_FULL\n",
      "  867186db-926e-4007-b1bd-d7de63ddc88e_ADDRESS_FULL\n",
      "  34c11c63-26b9-4f1c-837d-0d87d196ae5a_ADDRESS_FULL\n",
      "  fb360b66-7f89-4477-8fae-435fd422d02e_Location\n",
      "  fb360b66-7f89-4477-8fae-435fd422d02e_Address\n",
      "  5f316214-c5e6-404d-a46f-75742acd02fd_ADDRESS_FULL\n",
      "  48f078e1-1aba-4ed6-8952-53391b11c5c2_LocationAddress\n",
      "  d54f3c02-3f16-4a18-b0ce-61b46a5660bd_ADDRESS_FULL\n",
      "  0a0b0be6-27a2-4b95-80d7-a0fa0aac5aef_ADDRESS_FULL\n",
      "  7ed55e60-7788-499f-905b-15097c6ec008_ADDRESS_FULL\n",
      "  6d1fcabd-a353-44e5-a81a-0640237d1853_ADDRESS_FULL\n",
      "  f2c12e37-f533-4ecd-ac93-3166022fadec_ADDRESS_FULL\n",
      "  2d871a67-3c4c-4004-be0d-c9fede4eb9b4_ADDRESS_FULL\n",
      "  515333c0-4a1e-4f5b-b6b7-8e34858af268_ADDRESS_FULL\n",
      "  929e514c-574a-4de3-9191-55f5da9288f1_ADDRESS_FULL\n",
      "Cluster 56:\n",
      "  06dbedc6-2182-4118-9e05-a2fb08ba0b75_WEBSITE\n",
      "  cc45e02e-999c-4f4a-a940-c1b64ceb22b2_WEBSITE\n",
      "  0b2f590d-6287-41f3-ba40-ba9c01a692f1_WEBSITE\n",
      "  0c062a15-3c99-436a-8e84-4e682314a8c9_WEBSITE\n",
      "  757d840a-352a-4522-b695-8dfb6f06dc50_LoopTourURL\n",
      "  757d840a-352a-4522-b695-8dfb6f06dc50_ImageCreditExternalLink\n",
      "  00bdc10a-e129-4053-9f90-0c7ecd79e772_WEBSITE\n",
      "  ea32c251-845e-49fc-8fc2-35dd697887d4_WEBSITE\n",
      "  5f316214-c5e6-404d-a46f-75742acd02fd_WEBSITE\n",
      "  d54f3c02-3f16-4a18-b0ce-61b46a5660bd_WEBSITE\n",
      "  7ed55e60-7788-499f-905b-15097c6ec008_WEBSITE\n",
      "  2d871a67-3c4c-4004-be0d-c9fede4eb9b4_WEBSITE\n",
      "  515333c0-4a1e-4f5b-b6b7-8e34858af268_WEBSITE\n",
      "  929e514c-574a-4de3-9191-55f5da9288f1_WEBSITE\n",
      "Cluster 57:\n",
      "  06dbedc6-2182-4118-9e05-a2fb08ba0b75_EMAIL\n",
      "  cc45e02e-999c-4f4a-a940-c1b64ceb22b2_EMAIL\n",
      "  0b2f590d-6287-41f3-ba40-ba9c01a692f1_EMAIL\n",
      "  0c062a15-3c99-436a-8e84-4e682314a8c9_EMAIL\n",
      "  00bdc10a-e129-4053-9f90-0c7ecd79e772_EMAIL\n",
      "  ea32c251-845e-49fc-8fc2-35dd697887d4_EMAIL\n",
      "  5f316214-c5e6-404d-a46f-75742acd02fd_EMAIL\n",
      "  d54f3c02-3f16-4a18-b0ce-61b46a5660bd_EMAIL\n",
      "  7ed55e60-7788-499f-905b-15097c6ec008_EMAIL\n",
      "  2d871a67-3c4c-4004-be0d-c9fede4eb9b4_EMAIL\n",
      "  515333c0-4a1e-4f5b-b6b7-8e34858af268_EMAIL\n",
      "  929e514c-574a-4de3-9191-55f5da9288f1_EMAIL\n",
      "Cluster 58:\n",
      "  2cb2c65a-1565-4382-8fe3-3a235aec7655_ExternalLink\n",
      "  7337adce-e574-4db6-92bd-31c956381eac_WEBSITE\n",
      "  757d840a-352a-4522-b695-8dfb6f06dc50_ExternalLink\n",
      "  757d840a-352a-4522-b695-8dfb6f06dc50_test1\n",
      "  48f078e1-1aba-4ed6-8952-53391b11c5c2_ClubWebsite\n",
      "  969ffba2-354c-48e0-9ad3-f16a5608116d_website\n",
      "Cluster 59:\n",
      "  2cb2c65a-1565-4382-8fe3-3a235aec7655_ImageURL\n",
      "  2cb2c65a-1565-4382-8fe3-3a235aec7655_ThumbURL\n",
      "  b8a5db37-f367-4a79-958f-7d6b28326898_image\n",
      "Cluster 60:\n",
      "  f16dbf16-880b-43fd-8d2d-4bc7516c57c7_image\n",
      "  f16dbf16-880b-43fd-8d2d-4bc7516c57c7_project_url\n",
      "  b8a5db37-f367-4a79-958f-7d6b28326898_project_url\n",
      "  757d840a-352a-4522-b695-8dfb6f06dc50_ImageURL\n",
      "  757d840a-352a-4522-b695-8dfb6f06dc50_ThumbURL\n",
      "  ae850b3c-3c4f-4259-8be2-98176a554040_External File\n",
      "Cluster 61:\n",
      "  55136dac-26b1-4028-b9f5-7c2344f94153_OCC_MONTH\n",
      "  55136dac-26b1-4028-b9f5-7c2344f94153_REPORT_MONTH\n",
      "  b4e984de-493b-476c-b8be-60f142312d71_SUBTYPE\n",
      "  4dec5884-a5cf-49e7-b562-f835150dc0b1_FEATURE_CODE_DESC\n",
      "Cluster 62:\n",
      "  06dbedc6-2182-4118-9e05-a2fb08ba0b75_LANGUAGES\n",
      "  cc45e02e-999c-4f4a-a940-c1b64ceb22b2_LANGUAGES\n",
      "  0b2f590d-6287-41f3-ba40-ba9c01a692f1_LANGUAGES\n",
      "  00bdc10a-e129-4053-9f90-0c7ecd79e772_LANGUAGES\n",
      "  5f316214-c5e6-404d-a46f-75742acd02fd_LANGUAGES\n",
      "  d54f3c02-3f16-4a18-b0ce-61b46a5660bd_LANGUAGES\n",
      "  7ed55e60-7788-499f-905b-15097c6ec008_LANGUAGES\n",
      "  2d871a67-3c4c-4004-be0d-c9fede4eb9b4_LANGUAGES\n",
      "  515333c0-4a1e-4f5b-b6b7-8e34858af268_LANGUAGES\n",
      "  929e514c-574a-4de3-9191-55f5da9288f1_LANGUAGES\n",
      "Cluster 63:\n",
      "  2cb2c65a-1565-4382-8fe3-3a235aec7655_Source\n",
      "  55136dac-26b1-4028-b9f5-7c2344f94153_LOCATION_TYPE\n",
      "  43d0edd1-7318-4da6-aff7-ee169d6ffa32_SD_REGULATION\n",
      "  ae850b3c-3c4f-4259-8be2-98176a554040_Description\n",
      "Cluster 64:\n",
      "  64d4e54b-738f-4cd9-a9e7-8050fac8a52f_LINEAR_NAME\n",
      "  55136dac-26b1-4028-b9f5-7c2344f94153_PREMISES_TYPE\n",
      "  4dec5884-a5cf-49e7-b562-f835150dc0b1_LINEAR_NAME\n",
      "Cluster 65:\n",
      "  06dbedc6-2182-4118-9e05-a2fb08ba0b75_HOURS\n",
      "  cc45e02e-999c-4f4a-a940-c1b64ceb22b2_HOURS\n",
      "  0b2f590d-6287-41f3-ba40-ba9c01a692f1_HOURS\n",
      "  0c062a15-3c99-436a-8e84-4e682314a8c9_HOURS\n",
      "  00bdc10a-e129-4053-9f90-0c7ecd79e772_HOURS\n",
      "  5f316214-c5e6-404d-a46f-75742acd02fd_HOURS\n",
      "  d54f3c02-3f16-4a18-b0ce-61b46a5660bd_HOURS\n",
      "  7ed55e60-7788-499f-905b-15097c6ec008_HOURS\n",
      "  2d871a67-3c4c-4004-be0d-c9fede4eb9b4_HOURS\n",
      "  515333c0-4a1e-4f5b-b6b7-8e34858af268_HOURS\n",
      "  929e514c-574a-4de3-9191-55f5da9288f1_HOURS\n",
      "Cluster 66:\n",
      "  b8ac9622-3807-4fed-a881-ab4d860c49d6_ADDRESSSTREET\n",
      "  b8ac9622-3807-4fed-a881-ab4d860c49d6_FRONTINGSTREET\n",
      "  b8ac9622-3807-4fed-a881-ab4d860c49d6_FROMSTREET\n",
      "  15048cc4-bdcf-4bcd-907b-5ce57c3493c6_ROAD_NAME\n",
      "  18937890-dcdb-4e04-b341-b16c553d4c46_ADDRESSSTREET\n",
      "  18937890-dcdb-4e04-b341-b16c553d4c46_FRONTINGSTREET\n",
      "  18937890-dcdb-4e04-b341-b16c553d4c46_FROMSTREET\n",
      "  ecf41899-aed0-405e-aa76-118600f3a303_ADDRESSSTREET\n",
      "  ecf41899-aed0-405e-aa76-118600f3a303_FRONTINGSTREET\n",
      "  ecf41899-aed0-405e-aa76-118600f3a303_FROMSTREET\n",
      "  64d4e54b-738f-4cd9-a9e7-8050fac8a52f_LINEAR_NAME_FULL\n",
      "  4dec5884-a5cf-49e7-b562-f835150dc0b1_LINEAR_NAME_FULL\n",
      "  4dec5884-a5cf-49e7-b562-f835150dc0b1_LINEAR_NAME_LABEL\n",
      "  cdb49196-0d6a-466a-8ec8-88336a102778_ADDRESSSTREET\n",
      "  cdb49196-0d6a-466a-8ec8-88336a102778_FRONTINGSTREET\n",
      "  cdb49196-0d6a-466a-8ec8-88336a102778_FROMSTREET\n",
      "  de539a35-7340-430b-8c75-0135161b82f1_LINEAR_NAME_FULL\n",
      "  7337adce-e574-4db6-92bd-31c956381eac_LINEAR_NAME_FULL\n",
      "  a1071c78-7b25-41e0-897f-607c2fb8980c_LINEAR_NAME_FULL\n",
      "  34c11c63-26b9-4f1c-837d-0d87d196ae5a_LINEAR_NAME_FULL\n",
      "  34c11c63-26b9-4f1c-837d-0d87d196ae5a_FLANKING\n",
      "  94b21ed8-1a5a-4f51-810f-d8a4664dd89a_ADDRESSSTREET\n",
      "  94b21ed8-1a5a-4f51-810f-d8a4664dd89a_FRONTINGSTREET\n",
      "  94b21ed8-1a5a-4f51-810f-d8a4664dd89a_FROMSTREET\n",
      "  0a0b0be6-27a2-4b95-80d7-a0fa0aac5aef_LINEAR_NAME_FULL\n",
      "  b6696467-54d4-4b5b-acff-5b9085d94ff9_ADDRESSSTREET\n",
      "  b6696467-54d4-4b5b-acff-5b9085d94ff9_FRONTINGSTREET\n",
      "  b6696467-54d4-4b5b-acff-5b9085d94ff9_FROMSTREET\n",
      "  6d1fcabd-a353-44e5-a81a-0640237d1853_LINEAR_NAME_FULL\n",
      "  f2c12e37-f533-4ecd-ac93-3166022fadec_LINEAR_NAME_FULL\n",
      "  23d1f792-018f-4069-ac5d-443e932e1b78_LINEAR_NAME_FULL\n",
      "Cluster 67:\n",
      "  06dbedc6-2182-4118-9e05-a2fb08ba0b75_NEIGHBOURHOOD\n",
      "  cc45e02e-999c-4f4a-a940-c1b64ceb22b2_NEIGHBOURHOOD\n",
      "  0b2f590d-6287-41f3-ba40-ba9c01a692f1_NEIGHBOURHOOD\n",
      "  0c062a15-3c99-436a-8e84-4e682314a8c9_NEIGHBOURHOOD\n",
      "  b4e984de-493b-476c-b8be-60f142312d71_NEIGHBOURHOOD_158\n",
      "  00bdc10a-e129-4053-9f90-0c7ecd79e772_NEIGHBOURHOOD\n",
      "  867186db-926e-4007-b1bd-d7de63ddc88e_NEIGHBOURHOOD\n",
      "  d54f3c02-3f16-4a18-b0ce-61b46a5660bd_NEIGHBOURHOOD\n",
      "  7ed55e60-7788-499f-905b-15097c6ec008_NEIGHBOURHOOD\n",
      "  2d871a67-3c4c-4004-be0d-c9fede4eb9b4_NEIGHBOURHOOD\n",
      "  515333c0-4a1e-4f5b-b6b7-8e34858af268_NEIGHBOURHOOD\n",
      "  2ab99ca3-287d-4974-8701-54a361dd9b20_AREA_NAME\n",
      "  2ab99ca3-287d-4974-8701-54a361dd9b20_AREA_DESC\n",
      "  969ffba2-354c-48e0-9ad3-f16a5608116d_locationName\n",
      "  929e514c-574a-4de3-9191-55f5da9288f1_NEIGHBOURHOOD\n",
      "Cluster 68:\n",
      "  06dbedc6-2182-4118-9e05-a2fb08ba0b75_ACCESSIBILITY\n",
      "  cc45e02e-999c-4f4a-a940-c1b64ceb22b2_ACCESSIBILITY\n",
      "  0b2f590d-6287-41f3-ba40-ba9c01a692f1_ACCESSIBILITY\n",
      "  0c062a15-3c99-436a-8e84-4e682314a8c9_ACCESSIBILITY\n",
      "  00bdc10a-e129-4053-9f90-0c7ecd79e772_ACCESSIBILITY\n",
      "  d54f3c02-3f16-4a18-b0ce-61b46a5660bd_ACCESSIBILITY\n",
      "  7ed55e60-7788-499f-905b-15097c6ec008_ACCESSIBILITY\n",
      "  2d871a67-3c4c-4004-be0d-c9fede4eb9b4_ACCESSIBILITY\n",
      "  515333c0-4a1e-4f5b-b6b7-8e34858af268_ACCESSIBILITY\n",
      "  929e514c-574a-4de3-9191-55f5da9288f1_ACCESSIBILITY\n",
      "Cluster 69:\n",
      "  2cb2c65a-1565-4382-8fe3-3a235aec7655_WARD_FULLNAME\n",
      "  f16dbf16-880b-43fd-8d2d-4bc7516c57c7_ward_name\n",
      "  d37c909a-fedb-4dac-8b8e-56f4df632510_Ward Name\n",
      "  879e7dab-976a-49b1-b62a-9c1a2f9cd9f2_Ward Name\n",
      "  7337adce-e574-4db6-92bd-31c956381eac_WARD\n",
      "  5b2c65a5-d7f8-431c-b81b-28a833a5b221_WARD_NAME\n",
      "  7fa98ab2-7412-43cd-9270-cb44dd75b573_WARDNAME\n",
      "  34c11c63-26b9-4f1c-837d-0d87d196ae5a_WARD\n",
      "  31f70a35-4901-409a-90a4-1a5fef74575c_DEV_NAME\n",
      "  969ffba2-354c-48e0-9ad3-f16a5608116d_wardName\n",
      "Cluster 70:\n",
      "  cc45e02e-999c-4f4a-a940-c1b64ceb22b2_ELIGIBILITY\n",
      "  d54f3c02-3f16-4a18-b0ce-61b46a5660bd_APPLICATION\n",
      "  2d871a67-3c4c-4004-be0d-c9fede4eb9b4_APPLICATION\n",
      "  515333c0-4a1e-4f5b-b6b7-8e34858af268_APPLICATION\n",
      "Cluster 71:\n",
      "  0b2f590d-6287-41f3-ba40-ba9c01a692f1_APPLICATION\n",
      "  00bdc10a-e129-4053-9f90-0c7ecd79e772_APPLICATION\n",
      "  2d871a67-3c4c-4004-be0d-c9fede4eb9b4_ELIGIBILITY\n",
      "  515333c0-4a1e-4f5b-b6b7-8e34858af268_ELIGIBILITY\n",
      "Cluster 72:\n",
      "  0b2f590d-6287-41f3-ba40-ba9c01a692f1_ELIGIBILITY\n",
      "  0c062a15-3c99-436a-8e84-4e682314a8c9_ELIGIBILITY\n",
      "  00bdc10a-e129-4053-9f90-0c7ecd79e772_ELIGIBILITY\n",
      "  d54f3c02-3f16-4a18-b0ce-61b46a5660bd_ELIGIBILITY\n",
      "  7ed55e60-7788-499f-905b-15097c6ec008_ELIGIBILITY\n",
      "Cluster 73:\n",
      "  06dbedc6-2182-4118-9e05-a2fb08ba0b75_DESCRIPTION_SERVICE\n",
      "  cc45e02e-999c-4f4a-a940-c1b64ceb22b2_DESCRIPTION_SERVICE\n",
      "  0b2f590d-6287-41f3-ba40-ba9c01a692f1_DESCRIPTION_SERVICE\n",
      "  2cb2c65a-1565-4382-8fe3-3a235aec7655_Description\n",
      "  0c062a15-3c99-436a-8e84-4e682314a8c9_DESCRIPTION_SERVICE\n",
      "  f16dbf16-880b-43fd-8d2d-4bc7516c57c7_description\n",
      "  f16dbf16-880b-43fd-8d2d-4bc7516c57c7_image_alt_text\n",
      "  b8a5db37-f367-4a79-958f-7d6b28326898_description\n",
      "  b8a5db37-f367-4a79-958f-7d6b28326898_image_alt_text\n",
      "  7337adce-e574-4db6-92bd-31c956381eac_ATTRACTION\n",
      "  757d840a-352a-4522-b695-8dfb6f06dc50_DirectionsTransit\n",
      "  757d840a-352a-4522-b695-8dfb6f06dc50_DirectionsCar\n",
      "  757d840a-352a-4522-b695-8dfb6f06dc50_Description\n",
      "  757d840a-352a-4522-b695-8dfb6f06dc50_ImageAltText\n",
      "  00bdc10a-e129-4053-9f90-0c7ecd79e772_DESCRIPTION_SERVICE\n",
      "  5f316214-c5e6-404d-a46f-75742acd02fd_DESCRIPTION_SERVICE\n",
      "  ae850b3c-3c4f-4259-8be2-98176a554040_Description of Photo\n",
      "  d54f3c02-3f16-4a18-b0ce-61b46a5660bd_DESCRIPTION_SERVICE\n",
      "  7ed55e60-7788-499f-905b-15097c6ec008_DESCRIPTION_SERVICE\n",
      "  2d871a67-3c4c-4004-be0d-c9fede4eb9b4_DESCRIPTION_SERVICE\n",
      "  515333c0-4a1e-4f5b-b6b7-8e34858af268_DESCRIPTION_SERVICE\n",
      "  969ffba2-354c-48e0-9ad3-f16a5608116d_info\n",
      "  929e514c-574a-4de3-9191-55f5da9288f1_DESCRIPTION_SERVICE\n",
      "Cluster 74:\n",
      "  43d0edd1-7318-4da6-aff7-ee169d6ffa32_AREA_NAME\n",
      "  43d0edd1-7318-4da6-aff7-ee169d6ffa32_AREA_DESC\n",
      "  43d0edd1-7318-4da6-aff7-ee169d6ffa32_SD_NAME\n",
      "Cluster 75:\n",
      "  b8ac9622-3807-4fed-a881-ab4d860c49d6_BIA\n",
      "  b65cd31d-fabc-4222-83ef-8ddd11295d2b_COMMON_NAME\n",
      "  2cb2c65a-1565-4382-8fe3-3a235aec7655_Artist\n",
      "  2cb2c65a-1565-4382-8fe3-3a235aec7655_Title\n",
      "  ecf41899-aed0-405e-aa76-118600f3a303_BIA\n",
      "  4dec5884-a5cf-49e7-b562-f835150dc0b1_LINEAR_NAME_FULL_LEGAL\n",
      "  94b21ed8-1a5a-4f51-810f-d8a4664dd89a_BIA\n",
      "  c3b2e417-fb42-44db-96cc-db48fbbca8ef_AREA_NAME\n",
      "  c3b2e417-fb42-44db-96cc-db48fbbca8ef_AREA_DESC\n",
      "  b6696467-54d4-4b5b-acff-5b9085d94ff9_BIA\n",
      "  6036d8be-4c37-4fbf-9870-e10ad5bc60d6_NEIGHBOURHOOD_158\n",
      "  02898503-a367-4221-9e74-7addb260d110_AREA_NAME\n",
      "Cluster 76:\n",
      "  de539a35-7340-430b-8c75-0135161b82f1_BUILDING_NAME\n",
      "  7337adce-e574-4db6-92bd-31c956381eac_NAME\n",
      "  757d840a-352a-4522-b695-8dfb6f06dc50_SiteName\n",
      "  e9a267e7-85be-41f2-8fc9-e5c0ed3ab05b_locationName\n",
      "Cluster 77:\n",
      "  a1071c78-7b25-41e0-897f-607c2fb8980c_POINT_NAME\n",
      "  74eb5418-42c8-49d3-a62f-69941f0161f3_BLDGNAME\n",
      "  6d1fcabd-a353-44e5-a81a-0640237d1853_SCH_NAME\n",
      "  6d1fcabd-a353-44e5-a81a-0640237d1853_PLACE_NAME\n",
      "  f2c12e37-f533-4ecd-ac93-3166022fadec_PLACE_NAME\n",
      "Cluster 78:\n",
      "  00bdc10a-e129-4053-9f90-0c7ecd79e772_AGENCY_NAME\n",
      "  d54f3c02-3f16-4a18-b0ce-61b46a5660bd_AGENCY_NAME\n",
      "  2d871a67-3c4c-4004-be0d-c9fede4eb9b4_AGENCY_NAME\n",
      "  515333c0-4a1e-4f5b-b6b7-8e34858af268_AGENCY_NAME\n",
      "Cluster 79:\n",
      "  f16dbf16-880b-43fd-8d2d-4bc7516c57c7_project_name\n",
      "  5b2c65a5-d7f8-431c-b81b-28a833a5b221_LOC_DESC\n",
      "  74eb5418-42c8-49d3-a62f-69941f0161f3_LOC_NAME\n"
     ]
    }
   ],
   "source": [
    "for cluster_id in np.unique(cluster_labels):\n",
    "    if cluster_id == -1:\n",
    "        continue  # Skip noise points\n",
    "    cluster_columns = [\n",
    "        column_ids[i]\n",
    "        for i in range(len(cluster_labels))\n",
    "        if cluster_labels[i] == cluster_id\n",
    "    ]\n",
    "    print(f\"Cluster {cluster_id}:\")\n",
    "    for col in cluster_columns:\n",
    "        print(f\"  {col}\")"
   ]
  }
 ],
 "metadata": {
  "kernelspec": {
   "display_name": "Python 3",
   "language": "python",
   "name": "python3"
  },
  "language_info": {
   "codemirror_mode": {
    "name": "ipython",
    "version": 3
   },
   "file_extension": ".py",
   "mimetype": "text/x-python",
   "name": "python",
   "nbconvert_exporter": "python",
   "pygments_lexer": "ipython3",
   "version": "3.12.7"
  }
 },
 "nbformat": 4,
 "nbformat_minor": 5
}
